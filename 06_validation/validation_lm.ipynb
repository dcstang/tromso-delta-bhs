{
 "cells": [
  {
   "cell_type": "code",
   "execution_count": null,
   "metadata": {},
   "outputs": [],
   "source": [
    "\"\"\"\n",
    "    checking if linear regression working \n",
    "    error checking: if variable has got only one category\n",
    "    \n",
    "\"\"\""
   ]
  },
  {
   "cell_type": "code",
   "execution_count": 2,
   "metadata": {},
   "outputs": [],
   "source": [
    "import pandas as pd\n",
    "from datetime import datetime\n",
    "import progressbar\n",
    "\n",
    "import sys\n",
    "sys.path.append(\"../\")\n",
    "from functions.univariate_linear import getUnivariatePlotDf, getUnivariateResults\n",
    "from functions.ukbb_cleaning import relabelNames, getCategory"
   ]
  },
  {
   "cell_type": "code",
   "execution_count": 3,
   "metadata": {},
   "outputs": [],
   "source": [
    "df1 = pd.read_parquet(\"../data/processed_data/06_ukbb_outcome_trimmed_diet_bhs_complete_cases_dash.parquet\")"
   ]
  },
  {
   "cell_type": "code",
   "execution_count": 4,
   "metadata": {},
   "outputs": [
    {
     "data": {
      "text/plain": [
       "Index(['BMI.0.0', 'BMI.1.0'], dtype='object')"
      ]
     },
     "execution_count": 4,
     "metadata": {},
     "output_type": "execute_result"
    }
   ],
   "source": [
    "df1.columns[df1.columns.str.contains(\"BMI\")]"
   ]
  },
  {
   "cell_type": "code",
   "execution_count": 5,
   "metadata": {},
   "outputs": [
    {
     "data": {
      "text/html": [
       "<div>\n",
       "<style scoped>\n",
       "    .dataframe tbody tr th:only-of-type {\n",
       "        vertical-align: middle;\n",
       "    }\n",
       "\n",
       "    .dataframe tbody tr th {\n",
       "        vertical-align: top;\n",
       "    }\n",
       "\n",
       "    .dataframe thead th {\n",
       "        text-align: right;\n",
       "    }\n",
       "</style>\n",
       "<table border=\"1\" class=\"dataframe\">\n",
       "  <thead>\n",
       "    <tr style=\"text-align: right;\">\n",
       "      <th></th>\n",
       "      <th>BMI.0.0</th>\n",
       "      <th>BMI.1.0</th>\n",
       "    </tr>\n",
       "  </thead>\n",
       "  <tbody>\n",
       "    <tr>\n",
       "      <th>0</th>\n",
       "      <td>23.2735</td>\n",
       "      <td>25.8023</td>\n",
       "    </tr>\n",
       "    <tr>\n",
       "      <th>1</th>\n",
       "      <td>27.1581</td>\n",
       "      <td>26.9357</td>\n",
       "    </tr>\n",
       "    <tr>\n",
       "      <th>2</th>\n",
       "      <td>24.3126</td>\n",
       "      <td>25.6309</td>\n",
       "    </tr>\n",
       "    <tr>\n",
       "      <th>3</th>\n",
       "      <td>23.7388</td>\n",
       "      <td>25.1562</td>\n",
       "    </tr>\n",
       "    <tr>\n",
       "      <th>4</th>\n",
       "      <td>31.8773</td>\n",
       "      <td>34.0203</td>\n",
       "    </tr>\n",
       "    <tr>\n",
       "      <th>...</th>\n",
       "      <td>...</td>\n",
       "      <td>...</td>\n",
       "    </tr>\n",
       "    <tr>\n",
       "      <th>6957</th>\n",
       "      <td>21.6049</td>\n",
       "      <td>22.7229</td>\n",
       "    </tr>\n",
       "    <tr>\n",
       "      <th>6958</th>\n",
       "      <td>23.3136</td>\n",
       "      <td>22.6378</td>\n",
       "    </tr>\n",
       "    <tr>\n",
       "      <th>6959</th>\n",
       "      <td>27.4406</td>\n",
       "      <td>25.5978</td>\n",
       "    </tr>\n",
       "    <tr>\n",
       "      <th>6960</th>\n",
       "      <td>27.7778</td>\n",
       "      <td>28.4613</td>\n",
       "    </tr>\n",
       "    <tr>\n",
       "      <th>6961</th>\n",
       "      <td>31.6564</td>\n",
       "      <td>31.1213</td>\n",
       "    </tr>\n",
       "  </tbody>\n",
       "</table>\n",
       "<p>6962 rows × 2 columns</p>\n",
       "</div>"
      ],
      "text/plain": [
       "      BMI.0.0  BMI.1.0\n",
       "0     23.2735  25.8023\n",
       "1     27.1581  26.9357\n",
       "2     24.3126  25.6309\n",
       "3     23.7388  25.1562\n",
       "4     31.8773  34.0203\n",
       "...       ...      ...\n",
       "6957  21.6049  22.7229\n",
       "6958  23.3136  22.6378\n",
       "6959  27.4406  25.5978\n",
       "6960  27.7778  28.4613\n",
       "6961  31.6564  31.1213\n",
       "\n",
       "[6962 rows x 2 columns]"
      ]
     },
     "execution_count": 5,
     "metadata": {},
     "output_type": "execute_result"
    }
   ],
   "source": [
    "df1[['BMI.0.0', 'BMI.1.0']]"
   ]
  },
  {
   "cell_type": "code",
   "execution_count": 6,
   "metadata": {},
   "outputs": [],
   "source": [
    "exclusionList = [\"glycated_haemoglobin\",\"HDL_cholesterol\",\"LDL_direct\",\"triglycerides\",\"systolic_bp\",\"diastolic_bp\",\n",
    " \"pulse_rate\",\"c.reactive_protein\",\"IGF1\",\"creatinine\", \"cystatin_C\", \"alanine_aminotransferase\", \"urea\", \"heterozygosity\",\n",
    " \"mean_corpuscular_volume\", \"aspartate_aminotransferase\",\"gamma_glutamyltransferase\", \"score\", \"eid\", \"delta\", \"age_group\"] + \\\n",
    "[\"FEV\", \"FVC\", \"PEF\", \"_NG\"] + [\"T_S\", \"eosinophil\", \"erythrocyte\", \"neutrophil\", \"reticulocyte\", \"aemoglobin\"] + \\\n",
    "[\"lymphocyte\", \"basophil\", \"monocyte\", \"rbc\", \"platelet\", \"platlet\", \"sphered\", \"leukocyte\"] + \\\n",
    "[\"SHGB\", \"sodium\", \"microalbumin\", \"protein\", \"potassium\", \"alkaline\", \"calcium\", \"phosphate\", \"urate\", \"vitamin_D\"] + \\\n",
    "[\"albumin\", \"glucose\", \"bilirubin\", \"oestradiol\", \"rheumatoid\", \"cholesterol\", \"testosterone\"]\n",
    "\n",
    "univariateList = df1.columns[~df1.columns.str.contains(\"|\".join(exclusionList))]\n",
    "univariateList = univariateList[univariateList.str.contains(\".0.0\", regex=False)].to_list()"
   ]
  },
  {
   "cell_type": "code",
   "execution_count": 7,
   "metadata": {},
   "outputs": [
    {
     "data": {
      "text/plain": [
       "['waist.0.0',\n",
       " 'hip.0.0',\n",
       " 'height_stand.0.0',\n",
       " 'height_seat.0.0',\n",
       " 'townsend_deprivation_index.0.0',\n",
       " 'own_rent_accomm.0.0',\n",
       " 'no_in_house.0.0',\n",
       " 'income.0.0',\n",
       " 'physical_activity.0.0',\n",
       " 'time_outdoors_summer.0.0',\n",
       " 'time_outdoors_winter.0.0',\n",
       " 'time_tv.0.0',\n",
       " 'sleep_duration.0.0',\n",
       " 'sleep_insomnia.0.0',\n",
       " 'day_dozing.0.0',\n",
       " 'alcohol.0.0',\n",
       " 'birth_country.0.0',\n",
       " 'breastfed.0.0',\n",
       " 'body_age10.0.0',\n",
       " 'height_age10.0.0',\n",
       " 'adopted.0.0',\n",
       " 'multiple_birth.0.0',\n",
       " 'maternal_smoking.0.0',\n",
       " 'mothers_age.0.0',\n",
       " 'mood_swings.0.0',\n",
       " 'miserableness.0.0',\n",
       " 'irritability.0.0',\n",
       " 'sensitivity.0.0',\n",
       " 'fedup.0.0',\n",
       " 'nervous.0.0',\n",
       " 'anxious.0.0',\n",
       " 'tense.0.0',\n",
       " 'worry.0.0',\n",
       " 'suffer_nerves.0.0',\n",
       " 'loneliness.0.0',\n",
       " 'guilty.0.0',\n",
       " 'risk_taking.0.0',\n",
       " 'able_to_confide.0.0',\n",
       " 'overall_health.0.0',\n",
       " 'long_illness_or_disability.0.0',\n",
       " 'fathers_age.0.0',\n",
       " 'caffeine_within_hour.0.0',\n",
       " 'smoked_cigarette_last_hour.0.0',\n",
       " 'private_healthcare.0.0',\n",
       " 'tinnitus.0.0',\n",
       " 'qualifications.0.0',\n",
       " 'employment_status.0.0',\n",
       " 'stress_last_2yrs.0.0',\n",
       " 'blood_clot_etc.0.0',\n",
       " 'med_chol_bp_diab_exo.0.0',\n",
       " 'med_pain_constip_heart.0.0',\n",
       " 'vitamin_mineral_supplements.0.0',\n",
       " 'pain_last_month.0.0',\n",
       " 'leisure.0.0',\n",
       " 'med_chol_bp_diab.0.0',\n",
       " 'mineral_supplements.0.0',\n",
       " 'alcohol_status.0.0',\n",
       " 'population_density.0.0',\n",
       " 'BMI.0.0',\n",
       " 'weight.0.0',\n",
       " 'age.0.0',\n",
       " 'genetic_ethnic_grouping.0.0',\n",
       " 'NO2_2010.0.0',\n",
       " 'NO_2010.0.0',\n",
       " 'pm10_2010.0.0',\n",
       " 'pm2.5_2010.0.0',\n",
       " 'pm2.5_abs_2010.0.0',\n",
       " 'pm2.5_10_2010.0.0',\n",
       " 'traff_near_road.0.0',\n",
       " 'inverse_dist_road.0.0',\n",
       " 'traff_near_major_road.0.0',\n",
       " 'inverse_dist_major_road.0.0',\n",
       " 'total_traffic_major_road.0.0',\n",
       " 'close_major_road.0.0',\n",
       " 'sum_road_100m.0.0',\n",
       " 'NO2_2005.0.0',\n",
       " 'NO2_2006.0.0',\n",
       " 'NO2_2007.0.0',\n",
       " 'pm10_2007.0.0',\n",
       " 'day_noise_pollution.0.0',\n",
       " 'evening_noise_pollution.0.0',\n",
       " 'night_noise_pollution.0.0',\n",
       " 'greenspace_buffer_1000m.0.0',\n",
       " 'domestic_percentage_1000m.0.0',\n",
       " 'water_buffer_1000m.0.0',\n",
       " 'greenspace_buffer_300m.0.0',\n",
       " 'domestic_percentage_300m.0.0',\n",
       " 'water_buffer_300m.0.0',\n",
       " 'natural_percentage_1000m.0.0',\n",
       " 'natural_percentage_300m.0.0',\n",
       " 'distance_to_coast.0.0',\n",
       " 'time_vig_physical_activity.0.0',\n",
       " 'time_mod_physical_activity.0.0',\n",
       " 'number_cancers.0.0',\n",
       " 'number_opertions.0.0',\n",
       " 'number_medications.0.0',\n",
       " 'distance_work_home.0.0',\n",
       " 'heavy_physical_work.0.0',\n",
       " 'shift_work.0.0',\n",
       " 'walk_week_frequency.0.0',\n",
       " 'frequency_strenous_sports.0.0',\n",
       " 'frequency_family_visit.0.0',\n",
       " 'sleep_snoring.0.0',\n",
       " 'father_alive.0.0',\n",
       " 'mother_alive.0.0',\n",
       " 'number_brothers.0.0',\n",
       " 'number_sisters.0.0',\n",
       " 'seen_psychiatrist.0.0',\n",
       " 'hearing_difficulty.0.0',\n",
       " 'recent_falls.0.0',\n",
       " 'major_operation.0.0',\n",
       " 'recent_fracture.0.0',\n",
       " 'regular_prescription_meds.0.0',\n",
       " 'daily_cigarettes.0.0',\n",
       " 'pathological_fracture.0.0',\n",
       " 'hearing_aids.0.0',\n",
       " 'night_shift_work.0.0',\n",
       " 'type_tobacco.0.0',\n",
       " 'cigarettes_perday.0.0',\n",
       " 'angina.0.0',\n",
       " 'frequency_exercise_month.0.0',\n",
       " 'immigration_year.0.0',\n",
       " 'chronic_knee_pain.0.0',\n",
       " 'chronic_headache.0.0',\n",
       " 'red_wine_monthly.0.0',\n",
       " 'white_wine_monthly.0.0',\n",
       " 'beer_monthly.0.0',\n",
       " 'spirits_monthly.0.0',\n",
       " 'sudden_death_family_hx.0.0',\n",
       " 'anhedonia.0.0',\n",
       " 'mania.0.0',\n",
       " 'irritable.0.0',\n",
       " 'mrc_dyspnoea_3.0.0',\n",
       " 'cochlear_implant.0.0',\n",
       " 'noisy_workplace.0.0',\n",
       " 'number_older_siblings.0.0',\n",
       " 'history_eye_surgery.0.0',\n",
       " 'lowerlimb_rest_pain.0.0',\n",
       " 'lowerlimb_claudication.0.0',\n",
       " 'lowerlimb_arterial_surgery.0.0',\n",
       " 'restricted_activity_doctor.0.0',\n",
       " 'cooking_fuel_type.0.0',\n",
       " 'home_heating_type.0.0',\n",
       " 'eye_disorders.0.0',\n",
       " 'dental_problems.0.0',\n",
       " 'vascular_diagnosis.0.0',\n",
       " 'cancer_self_report.0.0',\n",
       " 'smoking_status.0.0',\n",
       " 'recent_medication_hayfever.0.0',\n",
       " 'recent_medication_asthma.0.0',\n",
       " 'recent_medication_emphysema.0.0',\n",
       " 'recent_medication_for_bronchitis.0.0',\n",
       " 'recent_medication_for_copd.0.0',\n",
       " 'recent_medication_for_fibrosis.0.0',\n",
       " 'recent_medication_for_alpha_deficiency.0.0',\n",
       " 'recent_medication_sarcoidosis.0.0',\n",
       " 'recent_medication_bronchiectasis.0.0',\n",
       " 'recent_medication_for_idiopathic_fibrosis.0.0',\n",
       " 'recent_medication_for_fibrosing_alveolitis_alveolitis.0.0',\n",
       " 'recent_medication_tuberculosis.0.0',\n",
       " 'recent_medication_silicosis.0.0',\n",
       " 'recent_medication_asbestosis.0.0',\n",
       " 'recent_medication_for_lung_cancer_mesothelioma).0.0',\n",
       " 'recent_medication_for_mesothelioma_of_lung.0.0',\n",
       " 'history_cancer_ICD.0.0',\n",
       " 'hx_stemi.0.0',\n",
       " 'hx_nstemi.0.0',\n",
       " 'hx_stroke.0.0',\n",
       " 'hx_asthma.0.0',\n",
       " 'hx_copd.0.0',\n",
       " 'hx_all_dementia.0.0',\n",
       " 'hx_alzheimer.0.0',\n",
       " 'hx_vascular_dementia.0.0',\n",
       " 'hx_ftp_dementia.0.0',\n",
       " 'hx_esrd.0.0',\n",
       " 'hx_mnd.0.0',\n",
       " 'hx_parkinsonism.0.0',\n",
       " 'hx_parkinson_disease.0.0',\n",
       " 'hx_psp.0.0',\n",
       " 'hx_msa.0.0',\n",
       " 'cooked_vegetable_intake.0.0',\n",
       " 'raw_vegetable_intake.0.0',\n",
       " 'fresh_fruit_intake.0.0',\n",
       " 'dried_fruit_intake.0.0',\n",
       " 'bread_type.0.0',\n",
       " 'cereal_type.0.0',\n",
       " 'pork_intake.0.0',\n",
       " 'lamb_mutton_intake.0.0',\n",
       " 'processed_meat_intake.0.0',\n",
       " 'spread_type.0.0',\n",
       " 'milk_type_used.0.0']"
      ]
     },
     "execution_count": 7,
     "metadata": {},
     "output_type": "execute_result"
    }
   ],
   "source": [
    "univariateList"
   ]
  },
  {
   "cell_type": "code",
   "execution_count": 8,
   "metadata": {},
   "outputs": [
    {
     "data": {
      "text/plain": [
       "191"
      ]
     },
     "execution_count": 8,
     "metadata": {},
     "output_type": "execute_result"
    }
   ],
   "source": [
    "len(univariateList)"
   ]
  },
  {
   "cell_type": "code",
   "execution_count": 9,
   "metadata": {},
   "outputs": [
    {
     "data": {
      "text/plain": [
       "False"
      ]
     },
     "execution_count": 9,
     "metadata": {},
     "output_type": "execute_result"
    }
   ],
   "source": [
    "\"BMI.1.0\" in univariateList"
   ]
  },
  {
   "cell_type": "code",
   "execution_count": 8,
   "metadata": {},
   "outputs": [
    {
     "data": {
      "text/plain": [
       "0       None\n",
       "1       None\n",
       "2       None\n",
       "3       None\n",
       "4       None\n",
       "        ... \n",
       "6957    None\n",
       "6958    None\n",
       "6959    None\n",
       "6960    None\n",
       "6961    None\n",
       "Name: hx_psp.0.0, Length: 6962, dtype: object"
      ]
     },
     "execution_count": 8,
     "metadata": {},
     "output_type": "execute_result"
    }
   ],
   "source": [
    "df1['hx_psp.0.0']"
   ]
  },
  {
   "cell_type": "code",
   "execution_count": 9,
   "metadata": {},
   "outputs": [
    {
     "data": {
      "text/plain": [
       "array([None], dtype=object)"
      ]
     },
     "execution_count": 9,
     "metadata": {},
     "output_type": "execute_result"
    }
   ],
   "source": [
    "df1['hx_psp.0.0'].unique()"
   ]
  },
  {
   "cell_type": "code",
   "execution_count": 10,
   "metadata": {},
   "outputs": [
    {
     "data": {
      "text/plain": [
       "1"
      ]
     },
     "execution_count": 10,
     "metadata": {},
     "output_type": "execute_result"
    }
   ],
   "source": [
    "len(df1['hx_psp.0.0'].unique())"
   ]
  },
  {
   "cell_type": "code",
   "execution_count": 11,
   "metadata": {},
   "outputs": [
    {
     "data": {
      "text/plain": [
       "array([None], dtype=object)"
      ]
     },
     "execution_count": 11,
     "metadata": {},
     "output_type": "execute_result"
    }
   ],
   "source": [
    "df1['hx_copd.0.0'].unique()"
   ]
  },
  {
   "cell_type": "code",
   "execution_count": 12,
   "metadata": {},
   "outputs": [
    {
     "data": {
      "text/plain": [
       "Index(['BMI.0.0', 'BMI.1.0'], dtype='object')"
      ]
     },
     "execution_count": 12,
     "metadata": {},
     "output_type": "execute_result"
    }
   ],
   "source": [
    "df1.columns[df1.columns.str.contains(\"BMI\")]"
   ]
  },
  {
   "cell_type": "code",
   "execution_count": 21,
   "metadata": {},
   "outputs": [
    {
     "data": {
      "text/plain": [
       "0       23.2735\n",
       "1       27.1581\n",
       "2       24.3126\n",
       "3       23.7388\n",
       "4       31.8773\n",
       "         ...   \n",
       "6957    21.6049\n",
       "6958    23.3136\n",
       "6959    27.4406\n",
       "6960    27.7778\n",
       "6961    31.6564\n",
       "Name: BMI.0.0, Length: 6962, dtype: float64"
      ]
     },
     "execution_count": 21,
     "metadata": {},
     "output_type": "execute_result"
    }
   ],
   "source": [
    "df1[\"BMI.0.0\"]"
   ]
  },
  {
   "cell_type": "code",
   "execution_count": 10,
   "metadata": {},
   "outputs": [],
   "source": [
    "import statsmodels.formula.api as smf\n",
    "\n",
    "# smf.ols(formula = f\"{outcome} ~ Q('{var}')\", data=df, missing='drop').fit()\n",
    "\n"
   ]
  },
  {
   "cell_type": "code",
   "execution_count": 11,
   "metadata": {},
   "outputs": [
    {
     "ename": "ValueError",
     "evalue": "negative dimensions are not allowed",
     "output_type": "error",
     "traceback": [
      "\u001b[0;31m---------------------------------------------------------------------------\u001b[0m",
      "\u001b[0;31mValueError\u001b[0m                                Traceback (most recent call last)",
      "Cell \u001b[0;32mIn[11], line 1\u001b[0m\n\u001b[0;32m----> 1\u001b[0m \u001b[43msmf\u001b[49m\u001b[38;5;241;43m.\u001b[39;49m\u001b[43mols\u001b[49m\u001b[43m(\u001b[49m\u001b[43mformula\u001b[49m\u001b[43m \u001b[49m\u001b[38;5;241;43m=\u001b[39;49m\u001b[43m \u001b[49m\u001b[38;5;124;43mf\u001b[39;49m\u001b[38;5;124;43m\"\u001b[39;49m\u001b[38;5;124;43mdelta_biomarker_bhs ~ Q(\u001b[39;49m\u001b[38;5;124;43m'\u001b[39;49m\u001b[38;5;124;43mhx_psp.0.0\u001b[39;49m\u001b[38;5;124;43m'\u001b[39;49m\u001b[38;5;124;43m)\u001b[39;49m\u001b[38;5;124;43m\"\u001b[39;49m\u001b[43m,\u001b[49m\u001b[43m \u001b[49m\u001b[43mdata\u001b[49m\u001b[38;5;241;43m=\u001b[39;49m\u001b[43mdf1\u001b[49m\u001b[43m,\u001b[49m\u001b[43m \u001b[49m\u001b[43mmissing\u001b[49m\u001b[38;5;241;43m=\u001b[39;49m\u001b[38;5;124;43m'\u001b[39;49m\u001b[38;5;124;43mdrop\u001b[39;49m\u001b[38;5;124;43m'\u001b[39;49m\u001b[43m)\u001b[49m\u001b[38;5;241m.\u001b[39mfit()\n",
      "File \u001b[0;32m~/anaconda3/envs/ploomber/lib/python3.10/site-packages/statsmodels/base/model.py:203\u001b[0m, in \u001b[0;36mModel.from_formula\u001b[0;34m(cls, formula, data, subset, drop_cols, *args, **kwargs)\u001b[0m\n\u001b[1;32m    200\u001b[0m \u001b[38;5;28;01mif\u001b[39;00m missing \u001b[38;5;241m==\u001b[39m \u001b[38;5;124m'\u001b[39m\u001b[38;5;124mnone\u001b[39m\u001b[38;5;124m'\u001b[39m:  \u001b[38;5;66;03m# with patsy it's drop or raise. let's raise.\u001b[39;00m\n\u001b[1;32m    201\u001b[0m     missing \u001b[38;5;241m=\u001b[39m \u001b[38;5;124m'\u001b[39m\u001b[38;5;124mraise\u001b[39m\u001b[38;5;124m'\u001b[39m\n\u001b[0;32m--> 203\u001b[0m tmp \u001b[38;5;241m=\u001b[39m \u001b[43mhandle_formula_data\u001b[49m\u001b[43m(\u001b[49m\u001b[43mdata\u001b[49m\u001b[43m,\u001b[49m\u001b[43m \u001b[49m\u001b[38;5;28;43;01mNone\u001b[39;49;00m\u001b[43m,\u001b[49m\u001b[43m \u001b[49m\u001b[43mformula\u001b[49m\u001b[43m,\u001b[49m\u001b[43m \u001b[49m\u001b[43mdepth\u001b[49m\u001b[38;5;241;43m=\u001b[39;49m\u001b[43meval_env\u001b[49m\u001b[43m,\u001b[49m\n\u001b[1;32m    204\u001b[0m \u001b[43m                          \u001b[49m\u001b[43mmissing\u001b[49m\u001b[38;5;241;43m=\u001b[39;49m\u001b[43mmissing\u001b[49m\u001b[43m)\u001b[49m\n\u001b[1;32m    205\u001b[0m ((endog, exog), missing_idx, design_info) \u001b[38;5;241m=\u001b[39m tmp\n\u001b[1;32m    206\u001b[0m max_endog \u001b[38;5;241m=\u001b[39m \u001b[38;5;28mcls\u001b[39m\u001b[38;5;241m.\u001b[39m_formula_max_endog\n",
      "File \u001b[0;32m~/anaconda3/envs/ploomber/lib/python3.10/site-packages/statsmodels/formula/formulatools.py:63\u001b[0m, in \u001b[0;36mhandle_formula_data\u001b[0;34m(Y, X, formula, depth, missing)\u001b[0m\n\u001b[1;32m     61\u001b[0m \u001b[38;5;28;01melse\u001b[39;00m:\n\u001b[1;32m     62\u001b[0m     \u001b[38;5;28;01mif\u001b[39;00m data_util\u001b[38;5;241m.\u001b[39m_is_using_pandas(Y, \u001b[38;5;28;01mNone\u001b[39;00m):\n\u001b[0;32m---> 63\u001b[0m         result \u001b[38;5;241m=\u001b[39m \u001b[43mdmatrices\u001b[49m\u001b[43m(\u001b[49m\u001b[43mformula\u001b[49m\u001b[43m,\u001b[49m\u001b[43m \u001b[49m\u001b[43mY\u001b[49m\u001b[43m,\u001b[49m\u001b[43m \u001b[49m\u001b[43mdepth\u001b[49m\u001b[43m,\u001b[49m\u001b[43m \u001b[49m\u001b[43mreturn_type\u001b[49m\u001b[38;5;241;43m=\u001b[39;49m\u001b[38;5;124;43m'\u001b[39;49m\u001b[38;5;124;43mdataframe\u001b[39;49m\u001b[38;5;124;43m'\u001b[39;49m\u001b[43m,\u001b[49m\n\u001b[1;32m     64\u001b[0m \u001b[43m                           \u001b[49m\u001b[43mNA_action\u001b[49m\u001b[38;5;241;43m=\u001b[39;49m\u001b[43mna_action\u001b[49m\u001b[43m)\u001b[49m\n\u001b[1;32m     65\u001b[0m     \u001b[38;5;28;01melse\u001b[39;00m:\n\u001b[1;32m     66\u001b[0m         result \u001b[38;5;241m=\u001b[39m dmatrices(formula, Y, depth, return_type\u001b[38;5;241m=\u001b[39m\u001b[38;5;124m'\u001b[39m\u001b[38;5;124mdataframe\u001b[39m\u001b[38;5;124m'\u001b[39m,\n\u001b[1;32m     67\u001b[0m                            NA_action\u001b[38;5;241m=\u001b[39mna_action)\n",
      "File \u001b[0;32m~/anaconda3/envs/ploomber/lib/python3.10/site-packages/patsy/highlevel.py:309\u001b[0m, in \u001b[0;36mdmatrices\u001b[0;34m(formula_like, data, eval_env, NA_action, return_type)\u001b[0m\n\u001b[1;32m    299\u001b[0m \u001b[38;5;250m\u001b[39m\u001b[38;5;124;03m\"\"\"Construct two design matrices given a formula_like and data.\u001b[39;00m\n\u001b[1;32m    300\u001b[0m \n\u001b[1;32m    301\u001b[0m \u001b[38;5;124;03mThis function is identical to :func:`dmatrix`, except that it requires\u001b[39;00m\n\u001b[0;32m   (...)\u001b[0m\n\u001b[1;32m    306\u001b[0m \u001b[38;5;124;03mSee :func:`dmatrix` for details.\u001b[39;00m\n\u001b[1;32m    307\u001b[0m \u001b[38;5;124;03m\"\"\"\u001b[39;00m\n\u001b[1;32m    308\u001b[0m eval_env \u001b[38;5;241m=\u001b[39m EvalEnvironment\u001b[38;5;241m.\u001b[39mcapture(eval_env, reference\u001b[38;5;241m=\u001b[39m\u001b[38;5;241m1\u001b[39m)\n\u001b[0;32m--> 309\u001b[0m (lhs, rhs) \u001b[38;5;241m=\u001b[39m \u001b[43m_do_highlevel_design\u001b[49m\u001b[43m(\u001b[49m\u001b[43mformula_like\u001b[49m\u001b[43m,\u001b[49m\u001b[43m \u001b[49m\u001b[43mdata\u001b[49m\u001b[43m,\u001b[49m\u001b[43m \u001b[49m\u001b[43meval_env\u001b[49m\u001b[43m,\u001b[49m\n\u001b[1;32m    310\u001b[0m \u001b[43m                                  \u001b[49m\u001b[43mNA_action\u001b[49m\u001b[43m,\u001b[49m\u001b[43m \u001b[49m\u001b[43mreturn_type\u001b[49m\u001b[43m)\u001b[49m\n\u001b[1;32m    311\u001b[0m \u001b[38;5;28;01mif\u001b[39;00m lhs\u001b[38;5;241m.\u001b[39mshape[\u001b[38;5;241m1\u001b[39m] \u001b[38;5;241m==\u001b[39m \u001b[38;5;241m0\u001b[39m:\n\u001b[1;32m    312\u001b[0m     \u001b[38;5;28;01mraise\u001b[39;00m PatsyError(\u001b[38;5;124m\"\u001b[39m\u001b[38;5;124mmodel is missing required outcome variables\u001b[39m\u001b[38;5;124m\"\u001b[39m)\n",
      "File \u001b[0;32m~/anaconda3/envs/ploomber/lib/python3.10/site-packages/patsy/highlevel.py:164\u001b[0m, in \u001b[0;36m_do_highlevel_design\u001b[0;34m(formula_like, data, eval_env, NA_action, return_type)\u001b[0m\n\u001b[1;32m    162\u001b[0m \u001b[38;5;28;01mdef\u001b[39;00m \u001b[38;5;21mdata_iter_maker\u001b[39m():\n\u001b[1;32m    163\u001b[0m     \u001b[38;5;28;01mreturn\u001b[39;00m \u001b[38;5;28miter\u001b[39m([data])\n\u001b[0;32m--> 164\u001b[0m design_infos \u001b[38;5;241m=\u001b[39m \u001b[43m_try_incr_builders\u001b[49m\u001b[43m(\u001b[49m\u001b[43mformula_like\u001b[49m\u001b[43m,\u001b[49m\u001b[43m \u001b[49m\u001b[43mdata_iter_maker\u001b[49m\u001b[43m,\u001b[49m\u001b[43m \u001b[49m\u001b[43meval_env\u001b[49m\u001b[43m,\u001b[49m\n\u001b[1;32m    165\u001b[0m \u001b[43m                                  \u001b[49m\u001b[43mNA_action\u001b[49m\u001b[43m)\u001b[49m\n\u001b[1;32m    166\u001b[0m \u001b[38;5;28;01mif\u001b[39;00m design_infos \u001b[38;5;129;01mis\u001b[39;00m \u001b[38;5;129;01mnot\u001b[39;00m \u001b[38;5;28;01mNone\u001b[39;00m:\n\u001b[1;32m    167\u001b[0m     \u001b[38;5;28;01mreturn\u001b[39;00m build_design_matrices(design_infos, data,\n\u001b[1;32m    168\u001b[0m                                  NA_action\u001b[38;5;241m=\u001b[39mNA_action,\n\u001b[1;32m    169\u001b[0m                                  return_type\u001b[38;5;241m=\u001b[39mreturn_type)\n",
      "File \u001b[0;32m~/anaconda3/envs/ploomber/lib/python3.10/site-packages/patsy/highlevel.py:66\u001b[0m, in \u001b[0;36m_try_incr_builders\u001b[0;34m(formula_like, data_iter_maker, eval_env, NA_action)\u001b[0m\n\u001b[1;32m     64\u001b[0m \u001b[38;5;28;01mif\u001b[39;00m \u001b[38;5;28misinstance\u001b[39m(formula_like, ModelDesc):\n\u001b[1;32m     65\u001b[0m     \u001b[38;5;28;01massert\u001b[39;00m \u001b[38;5;28misinstance\u001b[39m(eval_env, EvalEnvironment)\n\u001b[0;32m---> 66\u001b[0m     \u001b[38;5;28;01mreturn\u001b[39;00m \u001b[43mdesign_matrix_builders\u001b[49m\u001b[43m(\u001b[49m\u001b[43m[\u001b[49m\u001b[43mformula_like\u001b[49m\u001b[38;5;241;43m.\u001b[39;49m\u001b[43mlhs_termlist\u001b[49m\u001b[43m,\u001b[49m\n\u001b[1;32m     67\u001b[0m \u001b[43m                                   \u001b[49m\u001b[43mformula_like\u001b[49m\u001b[38;5;241;43m.\u001b[39;49m\u001b[43mrhs_termlist\u001b[49m\u001b[43m]\u001b[49m\u001b[43m,\u001b[49m\n\u001b[1;32m     68\u001b[0m \u001b[43m                                  \u001b[49m\u001b[43mdata_iter_maker\u001b[49m\u001b[43m,\u001b[49m\n\u001b[1;32m     69\u001b[0m \u001b[43m                                  \u001b[49m\u001b[43meval_env\u001b[49m\u001b[43m,\u001b[49m\n\u001b[1;32m     70\u001b[0m \u001b[43m                                  \u001b[49m\u001b[43mNA_action\u001b[49m\u001b[43m)\u001b[49m\n\u001b[1;32m     71\u001b[0m \u001b[38;5;28;01melse\u001b[39;00m:\n\u001b[1;32m     72\u001b[0m     \u001b[38;5;28;01mreturn\u001b[39;00m \u001b[38;5;28;01mNone\u001b[39;00m\n",
      "File \u001b[0;32m~/anaconda3/envs/ploomber/lib/python3.10/site-packages/patsy/build.py:719\u001b[0m, in \u001b[0;36mdesign_matrix_builders\u001b[0;34m(termlists, data_iter_maker, eval_env, NA_action)\u001b[0m\n\u001b[1;32m    717\u001b[0m design_infos \u001b[38;5;241m=\u001b[39m []\n\u001b[1;32m    718\u001b[0m \u001b[38;5;28;01mfor\u001b[39;00m termlist \u001b[38;5;129;01min\u001b[39;00m termlists:\n\u001b[0;32m--> 719\u001b[0m     term_to_subterm_infos \u001b[38;5;241m=\u001b[39m \u001b[43m_make_subterm_infos\u001b[49m\u001b[43m(\u001b[49m\u001b[43mtermlist\u001b[49m\u001b[43m,\u001b[49m\n\u001b[1;32m    720\u001b[0m \u001b[43m                                                \u001b[49m\u001b[43mnum_column_counts\u001b[49m\u001b[43m,\u001b[49m\n\u001b[1;32m    721\u001b[0m \u001b[43m                                                \u001b[49m\u001b[43mcat_levels_contrasts\u001b[49m\u001b[43m)\u001b[49m\n\u001b[1;32m    722\u001b[0m     \u001b[38;5;28;01massert\u001b[39;00m \u001b[38;5;28misinstance\u001b[39m(term_to_subterm_infos, OrderedDict)\n\u001b[1;32m    723\u001b[0m     \u001b[38;5;28;01massert\u001b[39;00m \u001b[38;5;28mfrozenset\u001b[39m(term_to_subterm_infos) \u001b[38;5;241m==\u001b[39m \u001b[38;5;28mfrozenset\u001b[39m(termlist)\n",
      "File \u001b[0;32m~/anaconda3/envs/ploomber/lib/python3.10/site-packages/patsy/build.py:626\u001b[0m, in \u001b[0;36m_make_subterm_infos\u001b[0;34m(terms, num_column_counts, cat_levels_contrasts)\u001b[0m\n\u001b[1;32m    623\u001b[0m levels, contrast \u001b[38;5;241m=\u001b[39m cat_levels_contrasts[factor]\n\u001b[1;32m    624\u001b[0m \u001b[38;5;66;03m# This is where the default coding is set to\u001b[39;00m\n\u001b[1;32m    625\u001b[0m \u001b[38;5;66;03m# Treatment:\u001b[39;00m\n\u001b[0;32m--> 626\u001b[0m coded \u001b[38;5;241m=\u001b[39m \u001b[43mcode_contrast_matrix\u001b[49m\u001b[43m(\u001b[49m\u001b[43mfactor_coding\u001b[49m\u001b[43m[\u001b[49m\u001b[43mfactor\u001b[49m\u001b[43m]\u001b[49m\u001b[43m,\u001b[49m\n\u001b[1;32m    627\u001b[0m \u001b[43m                             \u001b[49m\u001b[43mlevels\u001b[49m\u001b[43m,\u001b[49m\u001b[43m \u001b[49m\u001b[43mcontrast\u001b[49m\u001b[43m,\u001b[49m\n\u001b[1;32m    628\u001b[0m \u001b[43m                             \u001b[49m\u001b[43mdefault\u001b[49m\u001b[38;5;241;43m=\u001b[39;49m\u001b[43mTreatment\u001b[49m\u001b[43m)\u001b[49m\n\u001b[1;32m    629\u001b[0m contrast_matrices[factor] \u001b[38;5;241m=\u001b[39m coded\n\u001b[1;32m    630\u001b[0m subterm_columns \u001b[38;5;241m*\u001b[39m\u001b[38;5;241m=\u001b[39m coded\u001b[38;5;241m.\u001b[39mmatrix\u001b[38;5;241m.\u001b[39mshape[\u001b[38;5;241m1\u001b[39m]\n",
      "File \u001b[0;32m~/anaconda3/envs/ploomber/lib/python3.10/site-packages/patsy/contrasts.py:602\u001b[0m, in \u001b[0;36mcode_contrast_matrix\u001b[0;34m(intercept, levels, contrast, default)\u001b[0m\n\u001b[1;32m    600\u001b[0m     \u001b[38;5;28;01mreturn\u001b[39;00m contrast\u001b[38;5;241m.\u001b[39mcode_with_intercept(levels)\n\u001b[1;32m    601\u001b[0m \u001b[38;5;28;01melse\u001b[39;00m:\n\u001b[0;32m--> 602\u001b[0m     \u001b[38;5;28;01mreturn\u001b[39;00m \u001b[43mcontrast\u001b[49m\u001b[38;5;241;43m.\u001b[39;49m\u001b[43mcode_without_intercept\u001b[49m\u001b[43m(\u001b[49m\u001b[43mlevels\u001b[49m\u001b[43m)\u001b[49m\n",
      "File \u001b[0;32m~/anaconda3/envs/ploomber/lib/python3.10/site-packages/patsy/contrasts.py:183\u001b[0m, in \u001b[0;36mTreatment.code_without_intercept\u001b[0;34m(self, levels)\u001b[0m\n\u001b[1;32m    181\u001b[0m \u001b[38;5;28;01melse\u001b[39;00m:\n\u001b[1;32m    182\u001b[0m     reference \u001b[38;5;241m=\u001b[39m _get_level(levels, \u001b[38;5;28mself\u001b[39m\u001b[38;5;241m.\u001b[39mreference)\n\u001b[0;32m--> 183\u001b[0m eye \u001b[38;5;241m=\u001b[39m \u001b[43mnp\u001b[49m\u001b[38;5;241;43m.\u001b[39;49m\u001b[43meye\u001b[49m\u001b[43m(\u001b[49m\u001b[38;5;28;43mlen\u001b[39;49m\u001b[43m(\u001b[49m\u001b[43mlevels\u001b[49m\u001b[43m)\u001b[49m\u001b[43m \u001b[49m\u001b[38;5;241;43m-\u001b[39;49m\u001b[43m \u001b[49m\u001b[38;5;241;43m1\u001b[39;49m\u001b[43m)\u001b[49m\n\u001b[1;32m    184\u001b[0m contrasts \u001b[38;5;241m=\u001b[39m np\u001b[38;5;241m.\u001b[39mvstack((eye[:reference, :],\n\u001b[1;32m    185\u001b[0m                         np\u001b[38;5;241m.\u001b[39mzeros((\u001b[38;5;241m1\u001b[39m, \u001b[38;5;28mlen\u001b[39m(levels) \u001b[38;5;241m-\u001b[39m \u001b[38;5;241m1\u001b[39m)),\n\u001b[1;32m    186\u001b[0m                         eye[reference:, :]))\n\u001b[1;32m    187\u001b[0m names \u001b[38;5;241m=\u001b[39m _name_levels(\u001b[38;5;124m\"\u001b[39m\u001b[38;5;124mT.\u001b[39m\u001b[38;5;124m\"\u001b[39m, levels[:reference] \u001b[38;5;241m+\u001b[39m levels[reference \u001b[38;5;241m+\u001b[39m \u001b[38;5;241m1\u001b[39m:])\n",
      "File \u001b[0;32m~/anaconda3/envs/ploomber/lib/python3.10/site-packages/numpy/lib/twodim_base.py:211\u001b[0m, in \u001b[0;36meye\u001b[0;34m(N, M, k, dtype, order, like)\u001b[0m\n\u001b[1;32m    209\u001b[0m \u001b[38;5;28;01mif\u001b[39;00m M \u001b[38;5;129;01mis\u001b[39;00m \u001b[38;5;28;01mNone\u001b[39;00m:\n\u001b[1;32m    210\u001b[0m     M \u001b[38;5;241m=\u001b[39m N\n\u001b[0;32m--> 211\u001b[0m m \u001b[38;5;241m=\u001b[39m \u001b[43mzeros\u001b[49m\u001b[43m(\u001b[49m\u001b[43m(\u001b[49m\u001b[43mN\u001b[49m\u001b[43m,\u001b[49m\u001b[43m \u001b[49m\u001b[43mM\u001b[49m\u001b[43m)\u001b[49m\u001b[43m,\u001b[49m\u001b[43m \u001b[49m\u001b[43mdtype\u001b[49m\u001b[38;5;241;43m=\u001b[39;49m\u001b[43mdtype\u001b[49m\u001b[43m,\u001b[49m\u001b[43m \u001b[49m\u001b[43morder\u001b[49m\u001b[38;5;241;43m=\u001b[39;49m\u001b[43morder\u001b[49m\u001b[43m)\u001b[49m\n\u001b[1;32m    212\u001b[0m \u001b[38;5;28;01mif\u001b[39;00m k \u001b[38;5;241m>\u001b[39m\u001b[38;5;241m=\u001b[39m M:\n\u001b[1;32m    213\u001b[0m     \u001b[38;5;28;01mreturn\u001b[39;00m m\n",
      "\u001b[0;31mValueError\u001b[0m: negative dimensions are not allowed"
     ]
    }
   ],
   "source": [
    "smf.ols(formula = f\"delta_biomarker_bhs ~ Q('hx_psp.0.0')\", data=df1, missing='drop').fit()"
   ]
  },
  {
   "cell_type": "code",
   "execution_count": 19,
   "metadata": {},
   "outputs": [
    {
     "data": {
      "text/plain": [
       "'22_08_23_1508'"
      ]
     },
     "execution_count": 19,
     "metadata": {},
     "output_type": "execute_result"
    }
   ],
   "source": [
    "datetime.now().strftime(\"%d_%m_%y_%H%m\")"
   ]
  },
  {
   "cell_type": "code",
   "execution_count": 23,
   "metadata": {},
   "outputs": [
    {
     "name": "stderr",
     "output_type": "stream",
     "text": [
      "100% (15 of 15) |########################| Elapsed Time: 0:00:00 Time:  0:00:00\n"
     ]
    },
    {
     "name": "stdout",
     "output_type": "stream",
     "text": [
      "0\n",
      "nay\n",
      "1\n",
      "2\n",
      "3\n",
      "4\n",
      "et\n",
      "6\n",
      "7\n",
      "8\n",
      "10\n",
      "11\n",
      "12\n",
      "13\n",
      "14\n"
     ]
    }
   ],
   "source": [
    "for n in progressbar.progressbar(range(0,15)):\n",
    "    try:\n",
    "        if n == 5:\n",
    "            print(\"et\")\n",
    "            continue\n",
    "            \n",
    "        if n == 9:\n",
    "            continue\n",
    "        print(n)\n",
    "        n/n\n",
    "    except:\n",
    "        print(\"nay\")"
   ]
  },
  {
   "cell_type": "code",
   "execution_count": 24,
   "metadata": {},
   "outputs": [
    {
     "name": "stderr",
     "output_type": "stream",
     "text": [
      "100% (15 of 15) |########################| Elapsed Time: 0:00:00 Time:  0:00:00\n"
     ]
    },
    {
     "name": "stdout",
     "output_type": "stream",
     "text": [
      "0\n",
      "nay\n",
      "1\n",
      "2\n",
      "3\n",
      "4\n",
      "et\n",
      "6\n",
      "7\n",
      "8\n",
      "10\n",
      "11\n",
      "12\n",
      "13\n",
      "14\n"
     ]
    }
   ],
   "source": [
    "for n in progressbar.progressbar(range(0,15)):\n",
    "    if n == 5:\n",
    "        print(\"et\")\n",
    "        continue\n",
    "\n",
    "    elif n == 9:\n",
    "        continue\n",
    "    \n",
    "    else:\n",
    "        try:\n",
    "            print(n)\n",
    "            n/n\n",
    "        except:\n",
    "            print(\"nay\")"
   ]
  },
  {
   "cell_type": "code",
   "execution_count": 5,
   "metadata": {},
   "outputs": [],
   "source": [
    "# now validate the cleaning functions \n",
    "# 1. relabel names - with recoding Dict\n",
    "# 2. get category function - with recoding Dict\n",
    "# double check BMI "
   ]
  },
  {
   "cell_type": "code",
   "execution_count": 12,
   "metadata": {},
   "outputs": [],
   "source": [
    "recodingDict = pd.read_excel(\"../data/combined_recoding_dict.xlsx\")"
   ]
  },
  {
   "cell_type": "code",
   "execution_count": 13,
   "metadata": {},
   "outputs": [
    {
     "data": {
      "text/html": [
       "<div>\n",
       "<style scoped>\n",
       "    .dataframe tbody tr th:only-of-type {\n",
       "        vertical-align: middle;\n",
       "    }\n",
       "\n",
       "    .dataframe tbody tr th {\n",
       "        vertical-align: top;\n",
       "    }\n",
       "\n",
       "    .dataframe thead th {\n",
       "        text-align: right;\n",
       "    }\n",
       "</style>\n",
       "<table border=\"1\" class=\"dataframe\">\n",
       "  <thead>\n",
       "    <tr style=\"text-align: right;\">\n",
       "      <th></th>\n",
       "      <th>CodingName</th>\n",
       "      <th>FigureName</th>\n",
       "    </tr>\n",
       "  </thead>\n",
       "  <tbody>\n",
       "    <tr>\n",
       "      <th>0</th>\n",
       "      <td>number_cancers</td>\n",
       "      <td>Number of self-reported cancers</td>\n",
       "    </tr>\n",
       "    <tr>\n",
       "      <th>1</th>\n",
       "      <td>number_opertions</td>\n",
       "      <td>Number of operations, self-reported</td>\n",
       "    </tr>\n",
       "    <tr>\n",
       "      <th>2</th>\n",
       "      <td>number_medications</td>\n",
       "      <td>Number of treatments/medications taken</td>\n",
       "    </tr>\n",
       "    <tr>\n",
       "      <th>3</th>\n",
       "      <td>distance_work_home</td>\n",
       "      <td>Distance between home and job workplace</td>\n",
       "    </tr>\n",
       "    <tr>\n",
       "      <th>4</th>\n",
       "      <td>heavy_physical_work</td>\n",
       "      <td>Job involves shift work</td>\n",
       "    </tr>\n",
       "  </tbody>\n",
       "</table>\n",
       "</div>"
      ],
      "text/plain": [
       "            CodingName                               FigureName\n",
       "0       number_cancers          Number of self-reported cancers\n",
       "1     number_opertions      Number of operations, self-reported\n",
       "2   number_medications   Number of treatments/medications taken\n",
       "3   distance_work_home  Distance between home and job workplace\n",
       "4  heavy_physical_work                  Job involves shift work"
      ]
     },
     "execution_count": 13,
     "metadata": {},
     "output_type": "execute_result"
    }
   ],
   "source": [
    "recodingDict[[\"CodingName\", \"FigureName\"]].head()"
   ]
  },
  {
   "cell_type": "code",
   "execution_count": 14,
   "metadata": {},
   "outputs": [
    {
     "data": {
      "text/html": [
       "<div>\n",
       "<style scoped>\n",
       "    .dataframe tbody tr th:only-of-type {\n",
       "        vertical-align: middle;\n",
       "    }\n",
       "\n",
       "    .dataframe tbody tr th {\n",
       "        vertical-align: top;\n",
       "    }\n",
       "\n",
       "    .dataframe thead th {\n",
       "        text-align: right;\n",
       "    }\n",
       "</style>\n",
       "<table border=\"1\" class=\"dataframe\">\n",
       "  <thead>\n",
       "    <tr style=\"text-align: right;\">\n",
       "      <th></th>\n",
       "      <th>CodingName</th>\n",
       "      <th>FigureName</th>\n",
       "    </tr>\n",
       "  </thead>\n",
       "  <tbody>\n",
       "    <tr>\n",
       "      <th>400</th>\n",
       "      <td>BMI</td>\n",
       "      <td>Body mass index (BMI)</td>\n",
       "    </tr>\n",
       "  </tbody>\n",
       "</table>\n",
       "</div>"
      ],
      "text/plain": [
       "    CodingName             FigureName\n",
       "400        BMI  Body mass index (BMI)"
      ]
     },
     "execution_count": 14,
     "metadata": {},
     "output_type": "execute_result"
    }
   ],
   "source": [
    "recodingDict[recodingDict[\"CodingName\"]==\"BMI\"][[\"CodingName\", \"FigureName\"]]"
   ]
  },
  {
   "cell_type": "code",
   "execution_count": 15,
   "metadata": {},
   "outputs": [
    {
     "name": "stderr",
     "output_type": "stream",
     "text": [
      "  3% (6 of 191) |                        | Elapsed Time: 0:00:00 ETA:   0:00:06"
     ]
    },
    {
     "name": "stdout",
     "output_type": "stream",
     "text": [
      "waist.0.0\n",
      "hip.0.0\n",
      "height_stand.0.0\n",
      "height_seat.0.0\n",
      "townsend_deprivation_index.0.0\n",
      "own_rent_accomm.0.0\n"
     ]
    },
    {
     "name": "stderr",
     "output_type": "stream",
     "text": [
      "  7% (15 of 191) |#                      | Elapsed Time: 0:00:00 ETA:   0:00:04"
     ]
    },
    {
     "name": "stdout",
     "output_type": "stream",
     "text": [
      "income.0.0\n",
      "sleep_insomnia.0.0\n",
      "day_dozing.0.0\n"
     ]
    },
    {
     "name": "stderr",
     "output_type": "stream",
     "text": [
      "  9% (19 of 191) |##                     | Elapsed Time: 0:00:00 ETA:   0:00:05"
     ]
    },
    {
     "name": "stdout",
     "output_type": "stream",
     "text": [
      "alcohol.0.0\n",
      "birth_country.0.0\n",
      "breastfed.0.0\n",
      "body_age10.0.0\n"
     ]
    },
    {
     "name": "stderr",
     "output_type": "stream",
     "text": [
      " 11% (22 of 191) |##                     | Elapsed Time: 0:00:00 ETA:   0:00:06"
     ]
    },
    {
     "name": "stdout",
     "output_type": "stream",
     "text": [
      "height_age10.0.0\n",
      "adopted.0.0\n",
      "multiple_birth.0.0\n",
      "maternal_smoking.0.0\n"
     ]
    },
    {
     "name": "stderr",
     "output_type": "stream",
     "text": [
      " 14% (27 of 191) |###                    | Elapsed Time: 0:00:01 ETA:   0:00:06"
     ]
    },
    {
     "name": "stdout",
     "output_type": "stream",
     "text": [
      "mood_swings.0.0\n",
      "miserableness.0.0\n",
      "irritability.0.0\n",
      "sensitivity.0.0\n"
     ]
    },
    {
     "name": "stderr",
     "output_type": "stream",
     "text": [
      " 16% (32 of 191) |###                    | Elapsed Time: 0:00:01 ETA:   0:00:06"
     ]
    },
    {
     "name": "stdout",
     "output_type": "stream",
     "text": [
      "fedup.0.0\n",
      "nervous.0.0\n",
      "anxious.0.0\n",
      "tense.0.0\n"
     ]
    },
    {
     "name": "stderr",
     "output_type": "stream",
     "text": [
      " 18% (36 of 191) |####                   | Elapsed Time: 0:00:01 ETA:   0:00:06"
     ]
    },
    {
     "name": "stdout",
     "output_type": "stream",
     "text": [
      "worry.0.0\n",
      "suffer_nerves.0.0\n",
      "loneliness.0.0\n",
      "guilty.0.0\n"
     ]
    },
    {
     "name": "stderr",
     "output_type": "stream",
     "text": [
      " 20% (39 of 191) |####                   | Elapsed Time: 0:00:01 ETA:   0:00:06"
     ]
    },
    {
     "name": "stdout",
     "output_type": "stream",
     "text": [
      "risk_taking.0.0\n",
      "able_to_confide.0.0\n",
      "overall_health.0.0\n",
      "long_illness_or_disability.0.0\n"
     ]
    },
    {
     "name": "stderr",
     "output_type": "stream",
     "text": [
      " 25% (48 of 191) |#####                  | Elapsed Time: 0:00:01 ETA:   0:00:05"
     ]
    },
    {
     "name": "stdout",
     "output_type": "stream",
     "text": [
      "caffeine_within_hour.0.0\n",
      "qualifications.0.0\n",
      "employment_status.0.0\n",
      "stress_last_2yrs.0.0\n"
     ]
    },
    {
     "name": "stderr",
     "output_type": "stream",
     "text": [
      " 27% (53 of 191) |######                 | Elapsed Time: 0:00:02 ETA:   0:00:05"
     ]
    },
    {
     "name": "stdout",
     "output_type": "stream",
     "text": [
      "blood_clot_etc.0.0\n",
      "med_pain_constip_heart.0.0\n",
      "vitamin_mineral_supplements.0.0\n",
      "pain_last_month.0.0\n"
     ]
    },
    {
     "name": "stderr",
     "output_type": "stream",
     "text": [
      " 29% (56 of 191) |######                 | Elapsed Time: 0:00:02 ETA:   0:00:05"
     ]
    },
    {
     "name": "stdout",
     "output_type": "stream",
     "text": [
      "leisure.0.0\n",
      "med_chol_bp_diab.0.0\n",
      "mineral_supplements.0.0\n",
      "alcohol_status.0.0\n"
     ]
    },
    {
     "name": "stderr",
     "output_type": "stream",
     "text": [
      " 34% (66 of 191) |#######                | Elapsed Time: 0:00:02 ETA:   0:00:05"
     ]
    },
    {
     "name": "stdout",
     "output_type": "stream",
     "text": [
      "population_density.0.0\n",
      "BMI.0.0\n",
      "weight.0.0\n",
      "age.0.0\n",
      "genetic_ethnic_grouping.0.0\n",
      "NO2_2010.0.0\n",
      "NO_2010.0.0\n",
      "pm10_2010.0.0\n",
      "pm2.5_2010.0.0\n",
      "pm2.5_abs_2010.0.0\n"
     ]
    },
    {
     "name": "stderr",
     "output_type": "stream",
     "text": [
      " 39% (75 of 191) |#########              | Elapsed Time: 0:00:02 ETA:   0:00:04"
     ]
    },
    {
     "name": "stdout",
     "output_type": "stream",
     "text": [
      "pm2.5_10_2010.0.0\n",
      "traff_near_road.0.0\n",
      "inverse_dist_road.0.0\n",
      "traff_near_major_road.0.0\n",
      "inverse_dist_major_road.0.0\n",
      "total_traffic_major_road.0.0\n",
      "close_major_road.0.0\n",
      "sum_road_100m.0.0\n",
      "NO2_2005.0.0\n",
      "NO2_2006.0.0\n"
     ]
    },
    {
     "name": "stderr",
     "output_type": "stream",
     "text": [
      " 46% (88 of 191) |##########             | Elapsed Time: 0:00:03 ETA:   0:00:03"
     ]
    },
    {
     "name": "stdout",
     "output_type": "stream",
     "text": [
      "NO2_2007.0.0\n",
      "pm10_2007.0.0\n",
      "day_noise_pollution.0.0\n",
      "evening_noise_pollution.0.0\n",
      "night_noise_pollution.0.0\n",
      "greenspace_buffer_1000m.0.0\n",
      "domestic_percentage_1000m.0.0\n",
      "water_buffer_1000m.0.0\n",
      "greenspace_buffer_300m.0.0\n",
      "domestic_percentage_300m.0.0\n",
      "water_buffer_300m.0.0\n",
      "natural_percentage_1000m.0.0\n"
     ]
    },
    {
     "name": "stderr",
     "output_type": "stream",
     "text": [
      " 54% (104 of 191) |###########           | Elapsed Time: 0:00:03 ETA:   0:00:02"
     ]
    },
    {
     "name": "stdout",
     "output_type": "stream",
     "text": [
      "natural_percentage_300m.0.0\n",
      "distance_to_coast.0.0\n",
      "number_cancers.0.0\n",
      "number_opertions.0.0\n",
      "number_medications.0.0\n",
      "heavy_physical_work.0.0\n",
      "frequency_family_visit.0.0\n",
      "sleep_snoring.0.0\n",
      "father_alive.0.0\n",
      "mother_alive.0.0\n"
     ]
    },
    {
     "name": "stderr",
     "output_type": "stream",
     "text": [
      " 63% (121 of 191) |#############         | Elapsed Time: 0:00:03 ETA:   0:00:01"
     ]
    },
    {
     "name": "stdout",
     "output_type": "stream",
     "text": [
      "seen_psychiatrist.0.0\n",
      "hearing_difficulty.0.0\n",
      "recent_falls.0.0\n",
      "major_operation.0.0\n",
      "recent_fracture.0.0\n",
      "regular_prescription_meds.0.0\n",
      "hearing_aids.0.0\n",
      "frequency_exercise_month.0.0\n"
     ]
    },
    {
     "name": "stderr",
     "output_type": "stream",
     "text": [
      " 95% (182 of 191) |####################  | Elapsed Time: 0:00:03 ETA:   0:00:00"
     ]
    },
    {
     "name": "stdout",
     "output_type": "stream",
     "text": [
      "cooking_fuel_type.0.0\n",
      "dental_problems.0.0\n",
      "vascular_diagnosis.0.0\n",
      "smoking_status.0.0\n",
      "cooked_vegetable_intake.0.0\n",
      "raw_vegetable_intake.0.0\n",
      "fresh_fruit_intake.0.0\n"
     ]
    },
    {
     "name": "stderr",
     "output_type": "stream",
     "text": [
      "100% (191 of 191) |######################| Elapsed Time: 0:00:03 Time:  0:00:03\n"
     ]
    },
    {
     "name": "stdout",
     "output_type": "stream",
     "text": [
      "dried_fruit_intake.0.0\n",
      "bread_type.0.0\n",
      "cereal_type.0.0\n",
      "pork_intake.0.0\n",
      "lamb_mutton_intake.0.0\n",
      "processed_meat_intake.0.0\n",
      "spread_type.0.0\n",
      "milk_type_used.0.0\n"
     ]
    }
   ],
   "source": [
    "dBHS = getUnivariatePlotDf(df1, univariateList,\n",
    "                          \"delta_bhs\",\n",
    "                           adjustments = \" + bhs_score.0.0\",\n",
    "                          logPath=\"lm_valindation\")"
   ]
  },
  {
   "cell_type": "code",
   "execution_count": 16,
   "metadata": {},
   "outputs": [
    {
     "data": {
      "text/html": [
       "<div>\n",
       "<style scoped>\n",
       "    .dataframe tbody tr th:only-of-type {\n",
       "        vertical-align: middle;\n",
       "    }\n",
       "\n",
       "    .dataframe tbody tr th {\n",
       "        vertical-align: top;\n",
       "    }\n",
       "\n",
       "    .dataframe thead th {\n",
       "        text-align: right;\n",
       "    }\n",
       "</style>\n",
       "<table border=\"1\" class=\"dataframe\">\n",
       "  <thead>\n",
       "    <tr style=\"text-align: right;\">\n",
       "      <th></th>\n",
       "      <th>variable</th>\n",
       "      <th>pval</th>\n",
       "      <th>beta</th>\n",
       "      <th>betaLower</th>\n",
       "      <th>betaUpper</th>\n",
       "      <th>level</th>\n",
       "      <th>na_50</th>\n",
       "      <th>one_cat</th>\n",
       "    </tr>\n",
       "  </thead>\n",
       "  <tbody>\n",
       "    <tr>\n",
       "      <th>27</th>\n",
       "      <td>day_dozing</td>\n",
       "      <td>0.995035</td>\n",
       "      <td>0.000870</td>\n",
       "      <td>-0.273291</td>\n",
       "      <td>0.275031</td>\n",
       "      <td>Do not know</td>\n",
       "      <td>0</td>\n",
       "      <td>0</td>\n",
       "    </tr>\n",
       "    <tr>\n",
       "      <th>203</th>\n",
       "      <td>pm10_2010</td>\n",
       "      <td>0.991859</td>\n",
       "      <td>-0.000009</td>\n",
       "      <td>-0.001678</td>\n",
       "      <td>0.001661</td>\n",
       "      <td>NaN</td>\n",
       "      <td>0</td>\n",
       "      <td>0</td>\n",
       "    </tr>\n",
       "    <tr>\n",
       "      <th>290</th>\n",
       "      <td>frequency_exercise_month</td>\n",
       "      <td>0.989244</td>\n",
       "      <td>0.000657</td>\n",
       "      <td>-0.094954</td>\n",
       "      <td>0.096269</td>\n",
       "      <td>Do not know</td>\n",
       "      <td>0</td>\n",
       "      <td>0</td>\n",
       "    </tr>\n",
       "    <tr>\n",
       "      <th>98</th>\n",
       "      <td>risk_taking</td>\n",
       "      <td>0.982786</td>\n",
       "      <td>-0.001156</td>\n",
       "      <td>-0.106223</td>\n",
       "      <td>0.103910</td>\n",
       "      <td>Prefer not to answer</td>\n",
       "      <td>0</td>\n",
       "      <td>0</td>\n",
       "    </tr>\n",
       "    <tr>\n",
       "      <th>338</th>\n",
       "      <td>smoking_status</td>\n",
       "      <td>0.972925</td>\n",
       "      <td>-0.000962</td>\n",
       "      <td>-0.056533</td>\n",
       "      <td>0.054609</td>\n",
       "      <td>Previous</td>\n",
       "      <td>0</td>\n",
       "      <td>0</td>\n",
       "    </tr>\n",
       "  </tbody>\n",
       "</table>\n",
       "</div>"
      ],
      "text/plain": [
       "                     variable      pval      beta  betaLower  betaUpper  \\\n",
       "27                 day_dozing  0.995035  0.000870  -0.273291   0.275031   \n",
       "203                 pm10_2010  0.991859 -0.000009  -0.001678   0.001661   \n",
       "290  frequency_exercise_month  0.989244  0.000657  -0.094954   0.096269   \n",
       "98                risk_taking  0.982786 -0.001156  -0.106223   0.103910   \n",
       "338            smoking_status  0.972925 -0.000962  -0.056533   0.054609   \n",
       "\n",
       "                    level na_50 one_cat  \n",
       "27            Do not know     0       0  \n",
       "203                   NaN     0       0  \n",
       "290           Do not know     0       0  \n",
       "98   Prefer not to answer     0       0  \n",
       "338              Previous     0       0  "
      ]
     },
     "execution_count": 16,
     "metadata": {},
     "output_type": "execute_result"
    }
   ],
   "source": [
    "dBHS.head()"
   ]
  },
  {
   "cell_type": "code",
   "execution_count": 17,
   "metadata": {},
   "outputs": [
    {
     "data": {
      "text/html": [
       "<div>\n",
       "<style scoped>\n",
       "    .dataframe tbody tr th:only-of-type {\n",
       "        vertical-align: middle;\n",
       "    }\n",
       "\n",
       "    .dataframe tbody tr th {\n",
       "        vertical-align: top;\n",
       "    }\n",
       "\n",
       "    .dataframe thead th {\n",
       "        text-align: right;\n",
       "    }\n",
       "</style>\n",
       "<table border=\"1\" class=\"dataframe\">\n",
       "  <thead>\n",
       "    <tr style=\"text-align: right;\">\n",
       "      <th></th>\n",
       "      <th>variable</th>\n",
       "      <th>pval</th>\n",
       "      <th>beta</th>\n",
       "      <th>betaLower</th>\n",
       "      <th>betaUpper</th>\n",
       "      <th>level</th>\n",
       "      <th>na_50</th>\n",
       "      <th>one_cat</th>\n",
       "    </tr>\n",
       "  </thead>\n",
       "  <tbody>\n",
       "    <tr>\n",
       "      <th>197</th>\n",
       "      <td>BMI</td>\n",
       "      <td>2.646413e-37</td>\n",
       "      <td>0.005071</td>\n",
       "      <td>0.004297</td>\n",
       "      <td>0.005845</td>\n",
       "      <td>NaN</td>\n",
       "      <td>0</td>\n",
       "      <td>0</td>\n",
       "    </tr>\n",
       "  </tbody>\n",
       "</table>\n",
       "</div>"
      ],
      "text/plain": [
       "    variable          pval      beta  betaLower  betaUpper level na_50 one_cat\n",
       "197      BMI  2.646413e-37  0.005071   0.004297   0.005845   NaN     0       0"
      ]
     },
     "execution_count": 17,
     "metadata": {},
     "output_type": "execute_result"
    }
   ],
   "source": [
    "dBHS[dBHS[\"variable\"]==\"BMI\"]"
   ]
  },
  {
   "cell_type": "code",
   "execution_count": 18,
   "metadata": {},
   "outputs": [
    {
     "data": {
      "text/plain": [
       "(383, 8)"
      ]
     },
     "execution_count": 18,
     "metadata": {},
     "output_type": "execute_result"
    }
   ],
   "source": [
    "dBHS.shape"
   ]
  },
  {
   "cell_type": "code",
   "execution_count": 19,
   "metadata": {},
   "outputs": [
    {
     "data": {
      "text/html": [
       "<div>\n",
       "<style scoped>\n",
       "    .dataframe tbody tr th:only-of-type {\n",
       "        vertical-align: middle;\n",
       "    }\n",
       "\n",
       "    .dataframe tbody tr th {\n",
       "        vertical-align: top;\n",
       "    }\n",
       "\n",
       "    .dataframe thead th {\n",
       "        text-align: right;\n",
       "    }\n",
       "</style>\n",
       "<table border=\"1\" class=\"dataframe\">\n",
       "  <thead>\n",
       "    <tr style=\"text-align: right;\">\n",
       "      <th></th>\n",
       "      <th>variable</th>\n",
       "      <th>pval</th>\n",
       "      <th>beta</th>\n",
       "      <th>betaLower</th>\n",
       "      <th>betaUpper</th>\n",
       "      <th>level</th>\n",
       "      <th>na_50</th>\n",
       "      <th>one_cat</th>\n",
       "      <th>CodingName</th>\n",
       "      <th>FigureName</th>\n",
       "    </tr>\n",
       "  </thead>\n",
       "  <tbody>\n",
       "    <tr>\n",
       "      <th>0</th>\n",
       "      <td>day_dozing</td>\n",
       "      <td>0.995035</td>\n",
       "      <td>0.000870</td>\n",
       "      <td>-0.273291</td>\n",
       "      <td>0.275031</td>\n",
       "      <td>Do not know</td>\n",
       "      <td>0</td>\n",
       "      <td>0</td>\n",
       "      <td>day_dozing</td>\n",
       "      <td>Daytime dozing / sleeping (narcolepsy)</td>\n",
       "    </tr>\n",
       "    <tr>\n",
       "      <th>1</th>\n",
       "      <td>pm10_2010</td>\n",
       "      <td>0.991859</td>\n",
       "      <td>-0.000009</td>\n",
       "      <td>-0.001678</td>\n",
       "      <td>0.001661</td>\n",
       "      <td>NaN</td>\n",
       "      <td>0</td>\n",
       "      <td>0</td>\n",
       "      <td>pm10_2010</td>\n",
       "      <td>Particulate matter air pollution (pm10); 2010</td>\n",
       "    </tr>\n",
       "    <tr>\n",
       "      <th>2</th>\n",
       "      <td>frequency_exercise_month</td>\n",
       "      <td>0.989244</td>\n",
       "      <td>0.000657</td>\n",
       "      <td>-0.094954</td>\n",
       "      <td>0.096269</td>\n",
       "      <td>Do not know</td>\n",
       "      <td>0</td>\n",
       "      <td>0</td>\n",
       "      <td>frequency_exercise_month</td>\n",
       "      <td>Frequency of other exercises in last 4 weeks</td>\n",
       "    </tr>\n",
       "    <tr>\n",
       "      <th>3</th>\n",
       "      <td>risk_taking</td>\n",
       "      <td>0.982786</td>\n",
       "      <td>-0.001156</td>\n",
       "      <td>-0.106223</td>\n",
       "      <td>0.103910</td>\n",
       "      <td>Prefer not to answer</td>\n",
       "      <td>0</td>\n",
       "      <td>0</td>\n",
       "      <td>risk_taking</td>\n",
       "      <td>Risk taking</td>\n",
       "    </tr>\n",
       "    <tr>\n",
       "      <th>4</th>\n",
       "      <td>smoking_status</td>\n",
       "      <td>0.972925</td>\n",
       "      <td>-0.000962</td>\n",
       "      <td>-0.056533</td>\n",
       "      <td>0.054609</td>\n",
       "      <td>Previous</td>\n",
       "      <td>0</td>\n",
       "      <td>0</td>\n",
       "      <td>smoking_status</td>\n",
       "      <td>Smoking status</td>\n",
       "    </tr>\n",
       "    <tr>\n",
       "      <th>...</th>\n",
       "      <td>...</td>\n",
       "      <td>...</td>\n",
       "      <td>...</td>\n",
       "      <td>...</td>\n",
       "      <td>...</td>\n",
       "      <td>...</td>\n",
       "      <td>...</td>\n",
       "      <td>...</td>\n",
       "      <td>...</td>\n",
       "      <td>...</td>\n",
       "    </tr>\n",
       "    <tr>\n",
       "      <th>378</th>\n",
       "      <td>pathological_fracture</td>\n",
       "      <td>0.000000</td>\n",
       "      <td>0.000000</td>\n",
       "      <td>0.000000</td>\n",
       "      <td>0.000000</td>\n",
       "      <td>0.0</td>\n",
       "      <td>1</td>\n",
       "      <td>0</td>\n",
       "      <td>pathological_fracture</td>\n",
       "      <td>Fracture resulting from simple fall</td>\n",
       "    </tr>\n",
       "    <tr>\n",
       "      <th>379</th>\n",
       "      <td>eye_disorders</td>\n",
       "      <td>0.000000</td>\n",
       "      <td>0.000000</td>\n",
       "      <td>0.000000</td>\n",
       "      <td>0.000000</td>\n",
       "      <td>0.0</td>\n",
       "      <td>1</td>\n",
       "      <td>0</td>\n",
       "      <td>eye_disorders</td>\n",
       "      <td>Eye problems/disorders</td>\n",
       "    </tr>\n",
       "    <tr>\n",
       "      <th>380</th>\n",
       "      <td>home_heating_type</td>\n",
       "      <td>0.000000</td>\n",
       "      <td>0.000000</td>\n",
       "      <td>0.000000</td>\n",
       "      <td>0.000000</td>\n",
       "      <td>0.0</td>\n",
       "      <td>1</td>\n",
       "      <td>0</td>\n",
       "      <td>home_heating_type</td>\n",
       "      <td>Heating type(s) in home</td>\n",
       "    </tr>\n",
       "    <tr>\n",
       "      <th>381</th>\n",
       "      <td>sudden_death_family_hx</td>\n",
       "      <td>0.000000</td>\n",
       "      <td>0.000000</td>\n",
       "      <td>0.000000</td>\n",
       "      <td>0.000000</td>\n",
       "      <td>0.0</td>\n",
       "      <td>1</td>\n",
       "      <td>0</td>\n",
       "      <td>sudden_death_family_hx</td>\n",
       "      <td>Non-accidental death in close genetic family</td>\n",
       "    </tr>\n",
       "    <tr>\n",
       "      <th>382</th>\n",
       "      <td>vascular_diagnosis</td>\n",
       "      <td>NaN</td>\n",
       "      <td>0.000000</td>\n",
       "      <td>0.000000</td>\n",
       "      <td>0.000000</td>\n",
       "      <td>Stroke</td>\n",
       "      <td>0</td>\n",
       "      <td>0</td>\n",
       "      <td>vascular_diagnosis</td>\n",
       "      <td>Vascular/heart problems diagnosed by doctor</td>\n",
       "    </tr>\n",
       "  </tbody>\n",
       "</table>\n",
       "<p>383 rows × 10 columns</p>\n",
       "</div>"
      ],
      "text/plain": [
       "                     variable      pval      beta  betaLower  betaUpper  \\\n",
       "0                  day_dozing  0.995035  0.000870  -0.273291   0.275031   \n",
       "1                   pm10_2010  0.991859 -0.000009  -0.001678   0.001661   \n",
       "2    frequency_exercise_month  0.989244  0.000657  -0.094954   0.096269   \n",
       "3                 risk_taking  0.982786 -0.001156  -0.106223   0.103910   \n",
       "4              smoking_status  0.972925 -0.000962  -0.056533   0.054609   \n",
       "..                        ...       ...       ...        ...        ...   \n",
       "378     pathological_fracture  0.000000  0.000000   0.000000   0.000000   \n",
       "379             eye_disorders  0.000000  0.000000   0.000000   0.000000   \n",
       "380         home_heating_type  0.000000  0.000000   0.000000   0.000000   \n",
       "381    sudden_death_family_hx  0.000000  0.000000   0.000000   0.000000   \n",
       "382        vascular_diagnosis       NaN  0.000000   0.000000   0.000000   \n",
       "\n",
       "                    level na_50 one_cat                CodingName  \\\n",
       "0             Do not know     0       0                day_dozing   \n",
       "1                     NaN     0       0                 pm10_2010   \n",
       "2             Do not know     0       0  frequency_exercise_month   \n",
       "3    Prefer not to answer     0       0               risk_taking   \n",
       "4                Previous     0       0            smoking_status   \n",
       "..                    ...   ...     ...                       ...   \n",
       "378                   0.0     1       0     pathological_fracture   \n",
       "379                   0.0     1       0             eye_disorders   \n",
       "380                   0.0     1       0         home_heating_type   \n",
       "381                   0.0     1       0    sudden_death_family_hx   \n",
       "382                Stroke     0       0        vascular_diagnosis   \n",
       "\n",
       "                                        FigureName  \n",
       "0           Daytime dozing / sleeping (narcolepsy)  \n",
       "1    Particulate matter air pollution (pm10); 2010  \n",
       "2     Frequency of other exercises in last 4 weeks  \n",
       "3                                      Risk taking  \n",
       "4                                   Smoking status  \n",
       "..                                             ...  \n",
       "378            Fracture resulting from simple fall  \n",
       "379                         Eye problems/disorders  \n",
       "380                        Heating type(s) in home  \n",
       "381   Non-accidental death in close genetic family  \n",
       "382    Vascular/heart problems diagnosed by doctor  \n",
       "\n",
       "[383 rows x 10 columns]"
      ]
     },
     "execution_count": 19,
     "metadata": {},
     "output_type": "execute_result"
    }
   ],
   "source": [
    "relabelNames(dBHS, recodingDict)"
   ]
  },
  {
   "cell_type": "code",
   "execution_count": 20,
   "metadata": {},
   "outputs": [
    {
     "data": {
      "text/html": [
       "<div>\n",
       "<style scoped>\n",
       "    .dataframe tbody tr th:only-of-type {\n",
       "        vertical-align: middle;\n",
       "    }\n",
       "\n",
       "    .dataframe tbody tr th {\n",
       "        vertical-align: top;\n",
       "    }\n",
       "\n",
       "    .dataframe thead th {\n",
       "        text-align: right;\n",
       "    }\n",
       "</style>\n",
       "<table border=\"1\" class=\"dataframe\">\n",
       "  <thead>\n",
       "    <tr style=\"text-align: right;\">\n",
       "      <th></th>\n",
       "      <th>variable</th>\n",
       "      <th>pval</th>\n",
       "      <th>beta</th>\n",
       "      <th>betaLower</th>\n",
       "      <th>betaUpper</th>\n",
       "      <th>level</th>\n",
       "      <th>na_50</th>\n",
       "      <th>one_cat</th>\n",
       "      <th>CodingName</th>\n",
       "      <th>FigureName</th>\n",
       "      <th>Category</th>\n",
       "    </tr>\n",
       "  </thead>\n",
       "  <tbody>\n",
       "    <tr>\n",
       "      <th>0</th>\n",
       "      <td>day_dozing</td>\n",
       "      <td>0.995035</td>\n",
       "      <td>0.000870</td>\n",
       "      <td>-0.273291</td>\n",
       "      <td>0.275031</td>\n",
       "      <td>Do not know</td>\n",
       "      <td>0</td>\n",
       "      <td>0</td>\n",
       "      <td>day_dozing</td>\n",
       "      <td>Daytime dozing / sleeping (narcolepsy)</td>\n",
       "      <td>Behavioural</td>\n",
       "    </tr>\n",
       "    <tr>\n",
       "      <th>1</th>\n",
       "      <td>pm10_2010</td>\n",
       "      <td>0.991859</td>\n",
       "      <td>-0.000009</td>\n",
       "      <td>-0.001678</td>\n",
       "      <td>0.001661</td>\n",
       "      <td>NaN</td>\n",
       "      <td>0</td>\n",
       "      <td>0</td>\n",
       "      <td>pm10_2010</td>\n",
       "      <td>Particulate matter air pollution (pm10); 2010</td>\n",
       "      <td>Environment</td>\n",
       "    </tr>\n",
       "    <tr>\n",
       "      <th>2</th>\n",
       "      <td>frequency_exercise_month</td>\n",
       "      <td>0.989244</td>\n",
       "      <td>0.000657</td>\n",
       "      <td>-0.094954</td>\n",
       "      <td>0.096269</td>\n",
       "      <td>Do not know</td>\n",
       "      <td>0</td>\n",
       "      <td>0</td>\n",
       "      <td>frequency_exercise_month</td>\n",
       "      <td>Frequency of other exercises in last 4 weeks</td>\n",
       "      <td>Behavioural</td>\n",
       "    </tr>\n",
       "    <tr>\n",
       "      <th>3</th>\n",
       "      <td>risk_taking</td>\n",
       "      <td>0.982786</td>\n",
       "      <td>-0.001156</td>\n",
       "      <td>-0.106223</td>\n",
       "      <td>0.103910</td>\n",
       "      <td>Prefer not to answer</td>\n",
       "      <td>0</td>\n",
       "      <td>0</td>\n",
       "      <td>risk_taking</td>\n",
       "      <td>Risk taking</td>\n",
       "      <td>Psycho-social</td>\n",
       "    </tr>\n",
       "    <tr>\n",
       "      <th>4</th>\n",
       "      <td>smoking_status</td>\n",
       "      <td>0.972925</td>\n",
       "      <td>-0.000962</td>\n",
       "      <td>-0.056533</td>\n",
       "      <td>0.054609</td>\n",
       "      <td>Previous</td>\n",
       "      <td>0</td>\n",
       "      <td>0</td>\n",
       "      <td>smoking_status</td>\n",
       "      <td>Smoking status</td>\n",
       "      <td>Behavioural</td>\n",
       "    </tr>\n",
       "    <tr>\n",
       "      <th>...</th>\n",
       "      <td>...</td>\n",
       "      <td>...</td>\n",
       "      <td>...</td>\n",
       "      <td>...</td>\n",
       "      <td>...</td>\n",
       "      <td>...</td>\n",
       "      <td>...</td>\n",
       "      <td>...</td>\n",
       "      <td>...</td>\n",
       "      <td>...</td>\n",
       "      <td>...</td>\n",
       "    </tr>\n",
       "    <tr>\n",
       "      <th>378</th>\n",
       "      <td>pathological_fracture</td>\n",
       "      <td>0.000000</td>\n",
       "      <td>0.000000</td>\n",
       "      <td>0.000000</td>\n",
       "      <td>0.000000</td>\n",
       "      <td>0.0</td>\n",
       "      <td>1</td>\n",
       "      <td>0</td>\n",
       "      <td>pathological_fracture</td>\n",
       "      <td>Fracture resulting from simple fall</td>\n",
       "      <td>Medical condition / Medications</td>\n",
       "    </tr>\n",
       "    <tr>\n",
       "      <th>379</th>\n",
       "      <td>eye_disorders</td>\n",
       "      <td>0.000000</td>\n",
       "      <td>0.000000</td>\n",
       "      <td>0.000000</td>\n",
       "      <td>0.000000</td>\n",
       "      <td>0.0</td>\n",
       "      <td>1</td>\n",
       "      <td>0</td>\n",
       "      <td>eye_disorders</td>\n",
       "      <td>Eye problems/disorders</td>\n",
       "      <td>Medical condition / Medications</td>\n",
       "    </tr>\n",
       "    <tr>\n",
       "      <th>380</th>\n",
       "      <td>home_heating_type</td>\n",
       "      <td>0.000000</td>\n",
       "      <td>0.000000</td>\n",
       "      <td>0.000000</td>\n",
       "      <td>0.000000</td>\n",
       "      <td>0.0</td>\n",
       "      <td>1</td>\n",
       "      <td>0</td>\n",
       "      <td>home_heating_type</td>\n",
       "      <td>Heating type(s) in home</td>\n",
       "      <td>Environment</td>\n",
       "    </tr>\n",
       "    <tr>\n",
       "      <th>381</th>\n",
       "      <td>sudden_death_family_hx</td>\n",
       "      <td>0.000000</td>\n",
       "      <td>0.000000</td>\n",
       "      <td>0.000000</td>\n",
       "      <td>0.000000</td>\n",
       "      <td>0.0</td>\n",
       "      <td>1</td>\n",
       "      <td>0</td>\n",
       "      <td>sudden_death_family_hx</td>\n",
       "      <td>Non-accidental death in close genetic family</td>\n",
       "      <td>Medical condition / Medications</td>\n",
       "    </tr>\n",
       "    <tr>\n",
       "      <th>382</th>\n",
       "      <td>vascular_diagnosis</td>\n",
       "      <td>NaN</td>\n",
       "      <td>0.000000</td>\n",
       "      <td>0.000000</td>\n",
       "      <td>0.000000</td>\n",
       "      <td>Stroke</td>\n",
       "      <td>0</td>\n",
       "      <td>0</td>\n",
       "      <td>vascular_diagnosis</td>\n",
       "      <td>Vascular/heart problems diagnosed by doctor</td>\n",
       "      <td>Medical condition / Medications</td>\n",
       "    </tr>\n",
       "  </tbody>\n",
       "</table>\n",
       "<p>383 rows × 11 columns</p>\n",
       "</div>"
      ],
      "text/plain": [
       "                     variable      pval      beta  betaLower  betaUpper  \\\n",
       "0                  day_dozing  0.995035  0.000870  -0.273291   0.275031   \n",
       "1                   pm10_2010  0.991859 -0.000009  -0.001678   0.001661   \n",
       "2    frequency_exercise_month  0.989244  0.000657  -0.094954   0.096269   \n",
       "3                 risk_taking  0.982786 -0.001156  -0.106223   0.103910   \n",
       "4              smoking_status  0.972925 -0.000962  -0.056533   0.054609   \n",
       "..                        ...       ...       ...        ...        ...   \n",
       "378     pathological_fracture  0.000000  0.000000   0.000000   0.000000   \n",
       "379             eye_disorders  0.000000  0.000000   0.000000   0.000000   \n",
       "380         home_heating_type  0.000000  0.000000   0.000000   0.000000   \n",
       "381    sudden_death_family_hx  0.000000  0.000000   0.000000   0.000000   \n",
       "382        vascular_diagnosis       NaN  0.000000   0.000000   0.000000   \n",
       "\n",
       "                    level na_50 one_cat                CodingName  \\\n",
       "0             Do not know     0       0                day_dozing   \n",
       "1                     NaN     0       0                 pm10_2010   \n",
       "2             Do not know     0       0  frequency_exercise_month   \n",
       "3    Prefer not to answer     0       0               risk_taking   \n",
       "4                Previous     0       0            smoking_status   \n",
       "..                    ...   ...     ...                       ...   \n",
       "378                   0.0     1       0     pathological_fracture   \n",
       "379                   0.0     1       0             eye_disorders   \n",
       "380                   0.0     1       0         home_heating_type   \n",
       "381                   0.0     1       0    sudden_death_family_hx   \n",
       "382                Stroke     0       0        vascular_diagnosis   \n",
       "\n",
       "                                        FigureName  \\\n",
       "0           Daytime dozing / sleeping (narcolepsy)   \n",
       "1    Particulate matter air pollution (pm10); 2010   \n",
       "2     Frequency of other exercises in last 4 weeks   \n",
       "3                                      Risk taking   \n",
       "4                                   Smoking status   \n",
       "..                                             ...   \n",
       "378            Fracture resulting from simple fall   \n",
       "379                         Eye problems/disorders   \n",
       "380                        Heating type(s) in home   \n",
       "381   Non-accidental death in close genetic family   \n",
       "382    Vascular/heart problems diagnosed by doctor   \n",
       "\n",
       "                            Category  \n",
       "0                        Behavioural  \n",
       "1                        Environment  \n",
       "2                        Behavioural  \n",
       "3                      Psycho-social  \n",
       "4                        Behavioural  \n",
       "..                               ...  \n",
       "378  Medical condition / Medications  \n",
       "379  Medical condition / Medications  \n",
       "380                      Environment  \n",
       "381  Medical condition / Medications  \n",
       "382  Medical condition / Medications  \n",
       "\n",
       "[383 rows x 11 columns]"
      ]
     },
     "execution_count": 20,
     "metadata": {},
     "output_type": "execute_result"
    }
   ],
   "source": [
    "getCategory(relabelNames(dBHS, recodingDict), recodingDict)"
   ]
  },
  {
   "cell_type": "code",
   "execution_count": 21,
   "metadata": {},
   "outputs": [],
   "source": [
    "# check ols linear regression output with adjustments \n",
    "import statsmodels.formula.api as smf\n",
    "\n",
    "bmi = smf.ols(formula=f\"delta_bhs ~ Q('BMI.0.0') + Q('bhs_score.0.0')\", \n",
    "       data=df1, missing='drop').fit()"
   ]
  },
  {
   "cell_type": "code",
   "execution_count": 22,
   "metadata": {},
   "outputs": [
    {
     "name": "stdout",
     "output_type": "stream",
     "text": [
      "<statsmodels.regression.linear_model.RegressionResultsWrapper object at 0x146ce71cbdc0>\n"
     ]
    }
   ],
   "source": [
    "print(bmi)"
   ]
  },
  {
   "cell_type": "code",
   "execution_count": 23,
   "metadata": {},
   "outputs": [
    {
     "data": {
      "text/plain": [
       "Intercept             9.695954e-02\n",
       "Q('BMI.0.0')          2.646413e-37\n",
       "Q('bhs_score.0.0')    0.000000e+00\n",
       "dtype: float64"
      ]
     },
     "execution_count": 23,
     "metadata": {},
     "output_type": "execute_result"
    }
   ],
   "source": [
    "bmi.pvalues"
   ]
  },
  {
   "cell_type": "code",
   "execution_count": 24,
   "metadata": {},
   "outputs": [
    {
     "data": {
      "text/html": [
       "<table class=\"simpletable\">\n",
       "<caption>OLS Regression Results</caption>\n",
       "<tr>\n",
       "  <th>Dep. Variable:</th>        <td>delta_bhs</td>    <th>  R-squared:         </th> <td>   0.239</td>\n",
       "</tr>\n",
       "<tr>\n",
       "  <th>Model:</th>                   <td>OLS</td>       <th>  Adj. R-squared:    </th> <td>   0.239</td>\n",
       "</tr>\n",
       "<tr>\n",
       "  <th>Method:</th>             <td>Least Squares</td>  <th>  F-statistic:       </th> <td>   1091.</td>\n",
       "</tr>\n",
       "<tr>\n",
       "  <th>Date:</th>             <td>Thu, 24 Aug 2023</td> <th>  Prob (F-statistic):</th>  <td>  0.00</td> \n",
       "</tr>\n",
       "<tr>\n",
       "  <th>Time:</th>                 <td>14:59:38</td>     <th>  Log-Likelihood:    </th> <td>  4425.0</td>\n",
       "</tr>\n",
       "<tr>\n",
       "  <th>No. Observations:</th>      <td>  6948</td>      <th>  AIC:               </th> <td>  -8844.</td>\n",
       "</tr>\n",
       "<tr>\n",
       "  <th>Df Residuals:</th>          <td>  6945</td>      <th>  BIC:               </th> <td>  -8823.</td>\n",
       "</tr>\n",
       "<tr>\n",
       "  <th>Df Model:</th>              <td>     2</td>      <th>                     </th>     <td> </td>   \n",
       "</tr>\n",
       "<tr>\n",
       "  <th>Covariance Type:</th>      <td>nonrobust</td>    <th>                     </th>     <td> </td>   \n",
       "</tr>\n",
       "</table>\n",
       "<table class=\"simpletable\">\n",
       "<tr>\n",
       "           <td></td>             <th>coef</th>     <th>std err</th>      <th>t</th>      <th>P>|t|</th>  <th>[0.025</th>    <th>0.975]</th>  \n",
       "</tr>\n",
       "<tr>\n",
       "  <th>Intercept</th>          <td>   -0.0163</td> <td>    0.010</td> <td>   -1.660</td> <td> 0.097</td> <td>   -0.036</td> <td>    0.003</td>\n",
       "</tr>\n",
       "<tr>\n",
       "  <th>Q('BMI.0.0')</th>       <td>    0.0051</td> <td>    0.000</td> <td>   12.838</td> <td> 0.000</td> <td>    0.004</td> <td>    0.006</td>\n",
       "</tr>\n",
       "<tr>\n",
       "  <th>Q('bhs_score.0.0')</th> <td>   -0.4797</td> <td>    0.010</td> <td>  -45.898</td> <td> 0.000</td> <td>   -0.500</td> <td>   -0.459</td>\n",
       "</tr>\n",
       "</table>\n",
       "<table class=\"simpletable\">\n",
       "<tr>\n",
       "  <th>Omnibus:</th>       <td>194.023</td> <th>  Durbin-Watson:     </th> <td>   2.009</td>\n",
       "</tr>\n",
       "<tr>\n",
       "  <th>Prob(Omnibus):</th> <td> 0.000</td>  <th>  Jarque-Bera (JB):  </th> <td> 213.321</td>\n",
       "</tr>\n",
       "<tr>\n",
       "  <th>Skew:</th>          <td> 0.399</td>  <th>  Prob(JB):          </th> <td>4.76e-47</td>\n",
       "</tr>\n",
       "<tr>\n",
       "  <th>Kurtosis:</th>      <td> 3.314</td>  <th>  Cond. No.          </th> <td>    199.</td>\n",
       "</tr>\n",
       "</table><br/><br/>Notes:<br/>[1] Standard Errors assume that the covariance matrix of the errors is correctly specified."
      ],
      "text/latex": [
       "\\begin{center}\n",
       "\\begin{tabular}{lclc}\n",
       "\\toprule\n",
       "\\textbf{Dep. Variable:}      &    delta\\_bhs    & \\textbf{  R-squared:         } &     0.239   \\\\\n",
       "\\textbf{Model:}              &       OLS        & \\textbf{  Adj. R-squared:    } &     0.239   \\\\\n",
       "\\textbf{Method:}             &  Least Squares   & \\textbf{  F-statistic:       } &     1091.   \\\\\n",
       "\\textbf{Date:}               & Thu, 24 Aug 2023 & \\textbf{  Prob (F-statistic):} &     0.00    \\\\\n",
       "\\textbf{Time:}               &     14:59:38     & \\textbf{  Log-Likelihood:    } &    4425.0   \\\\\n",
       "\\textbf{No. Observations:}   &        6948      & \\textbf{  AIC:               } &    -8844.   \\\\\n",
       "\\textbf{Df Residuals:}       &        6945      & \\textbf{  BIC:               } &    -8823.   \\\\\n",
       "\\textbf{Df Model:}           &           2      & \\textbf{                     } &             \\\\\n",
       "\\textbf{Covariance Type:}    &    nonrobust     & \\textbf{                     } &             \\\\\n",
       "\\bottomrule\n",
       "\\end{tabular}\n",
       "\\begin{tabular}{lcccccc}\n",
       "                             & \\textbf{coef} & \\textbf{std err} & \\textbf{t} & \\textbf{P$> |$t$|$} & \\textbf{[0.025} & \\textbf{0.975]}  \\\\\n",
       "\\midrule\n",
       "\\textbf{Intercept}           &      -0.0163  &        0.010     &    -1.660  &         0.097        &       -0.036    &        0.003     \\\\\n",
       "\\textbf{Q('BMI.0.0')}        &       0.0051  &        0.000     &    12.838  &         0.000        &        0.004    &        0.006     \\\\\n",
       "\\textbf{Q('bhs\\_score.0.0')} &      -0.4797  &        0.010     &   -45.898  &         0.000        &       -0.500    &       -0.459     \\\\\n",
       "\\bottomrule\n",
       "\\end{tabular}\n",
       "\\begin{tabular}{lclc}\n",
       "\\textbf{Omnibus:}       & 194.023 & \\textbf{  Durbin-Watson:     } &    2.009  \\\\\n",
       "\\textbf{Prob(Omnibus):} &   0.000 & \\textbf{  Jarque-Bera (JB):  } &  213.321  \\\\\n",
       "\\textbf{Skew:}          &   0.399 & \\textbf{  Prob(JB):          } & 4.76e-47  \\\\\n",
       "\\textbf{Kurtosis:}      &   3.314 & \\textbf{  Cond. No.          } &     199.  \\\\\n",
       "\\bottomrule\n",
       "\\end{tabular}\n",
       "%\\caption{OLS Regression Results}\n",
       "\\end{center}\n",
       "\n",
       "Notes: \\newline\n",
       " [1] Standard Errors assume that the covariance matrix of the errors is correctly specified."
      ],
      "text/plain": [
       "<class 'statsmodels.iolib.summary.Summary'>\n",
       "\"\"\"\n",
       "                            OLS Regression Results                            \n",
       "==============================================================================\n",
       "Dep. Variable:              delta_bhs   R-squared:                       0.239\n",
       "Model:                            OLS   Adj. R-squared:                  0.239\n",
       "Method:                 Least Squares   F-statistic:                     1091.\n",
       "Date:                Thu, 24 Aug 2023   Prob (F-statistic):               0.00\n",
       "Time:                        14:59:38   Log-Likelihood:                 4425.0\n",
       "No. Observations:                6948   AIC:                            -8844.\n",
       "Df Residuals:                    6945   BIC:                            -8823.\n",
       "Df Model:                           2                                         \n",
       "Covariance Type:            nonrobust                                         \n",
       "======================================================================================\n",
       "                         coef    std err          t      P>|t|      [0.025      0.975]\n",
       "--------------------------------------------------------------------------------------\n",
       "Intercept             -0.0163      0.010     -1.660      0.097      -0.036       0.003\n",
       "Q('BMI.0.0')           0.0051      0.000     12.838      0.000       0.004       0.006\n",
       "Q('bhs_score.0.0')    -0.4797      0.010    -45.898      0.000      -0.500      -0.459\n",
       "==============================================================================\n",
       "Omnibus:                      194.023   Durbin-Watson:                   2.009\n",
       "Prob(Omnibus):                  0.000   Jarque-Bera (JB):              213.321\n",
       "Skew:                           0.399   Prob(JB):                     4.76e-47\n",
       "Kurtosis:                       3.314   Cond. No.                         199.\n",
       "==============================================================================\n",
       "\n",
       "Notes:\n",
       "[1] Standard Errors assume that the covariance matrix of the errors is correctly specified.\n",
       "\"\"\""
      ]
     },
     "execution_count": 24,
     "metadata": {},
     "output_type": "execute_result"
    }
   ],
   "source": [
    "bmi.summary()"
   ]
  },
  {
   "cell_type": "code",
   "execution_count": 25,
   "metadata": {},
   "outputs": [
    {
     "data": {
      "text/html": [
       "<div>\n",
       "<style scoped>\n",
       "    .dataframe tbody tr th:only-of-type {\n",
       "        vertical-align: middle;\n",
       "    }\n",
       "\n",
       "    .dataframe tbody tr th {\n",
       "        vertical-align: top;\n",
       "    }\n",
       "\n",
       "    .dataframe thead th {\n",
       "        text-align: right;\n",
       "    }\n",
       "</style>\n",
       "<table border=\"1\" class=\"dataframe\">\n",
       "  <thead>\n",
       "    <tr style=\"text-align: right;\">\n",
       "      <th></th>\n",
       "      <th>0</th>\n",
       "      <th>1</th>\n",
       "    </tr>\n",
       "  </thead>\n",
       "  <tbody>\n",
       "    <tr>\n",
       "      <th>Intercept</th>\n",
       "      <td>-0.035551</td>\n",
       "      <td>0.002949</td>\n",
       "    </tr>\n",
       "    <tr>\n",
       "      <th>Q('BMI.0.0')</th>\n",
       "      <td>0.004297</td>\n",
       "      <td>0.005845</td>\n",
       "    </tr>\n",
       "    <tr>\n",
       "      <th>Q('bhs_score.0.0')</th>\n",
       "      <td>-0.500176</td>\n",
       "      <td>-0.459201</td>\n",
       "    </tr>\n",
       "  </tbody>\n",
       "</table>\n",
       "</div>"
      ],
      "text/plain": [
       "                           0         1\n",
       "Intercept          -0.035551  0.002949\n",
       "Q('BMI.0.0')        0.004297  0.005845\n",
       "Q('bhs_score.0.0') -0.500176 -0.459201"
      ]
     },
     "execution_count": 25,
     "metadata": {},
     "output_type": "execute_result"
    }
   ],
   "source": [
    "bmi.conf_int()"
   ]
  },
  {
   "cell_type": "code",
   "execution_count": 26,
   "metadata": {},
   "outputs": [
    {
     "data": {
      "text/plain": [
       "Intercept            -0.035551\n",
       "Q('BMI.0.0')          0.004297\n",
       "Q('bhs_score.0.0')   -0.500176\n",
       "Name: 0, dtype: float64"
      ]
     },
     "execution_count": 26,
     "metadata": {},
     "output_type": "execute_result"
    }
   ],
   "source": [
    "bmi.conf_int()[0]"
   ]
  },
  {
   "cell_type": "code",
   "execution_count": 27,
   "metadata": {},
   "outputs": [
    {
     "data": {
      "text/plain": [
       "pandas.core.series.Series"
      ]
     },
     "execution_count": 27,
     "metadata": {},
     "output_type": "execute_result"
    }
   ],
   "source": [
    "type(bmi.conf_int()[0])"
   ]
  },
  {
   "cell_type": "code",
   "execution_count": 28,
   "metadata": {},
   "outputs": [
    {
     "data": {
      "text/plain": [
       "Intercept             9.695954e-02\n",
       "Q('BMI.0.0')          2.646413e-37\n",
       "Q('bhs_score.0.0')    0.000000e+00\n",
       "dtype: float64"
      ]
     },
     "execution_count": 28,
     "metadata": {},
     "output_type": "execute_result"
    }
   ],
   "source": [
    "bmi.pvalues"
   ]
  },
  {
   "cell_type": "code",
   "execution_count": 29,
   "metadata": {},
   "outputs": [
    {
     "data": {
      "text/plain": [
       "array([ True, False,  True])"
      ]
     },
     "execution_count": 29,
     "metadata": {},
     "output_type": "execute_result"
    }
   ],
   "source": [
    "bmi.pvalues.index.str.contains(\"Intercept|bhs_score\")"
   ]
  },
  {
   "cell_type": "code",
   "execution_count": 30,
   "metadata": {},
   "outputs": [],
   "source": [
    "vascular = smf.ols(formula=f\"delta_bhs ~ Q('vascular_diagnosis.0.0') + Q('bhs_score.0.0')\", \n",
    "       data=df1, missing='drop').fit()"
   ]
  },
  {
   "cell_type": "code",
   "execution_count": 31,
   "metadata": {},
   "outputs": [
    {
     "data": {
      "text/html": [
       "<table class=\"simpletable\">\n",
       "<caption>OLS Regression Results</caption>\n",
       "<tr>\n",
       "  <th>Dep. Variable:</th>        <td>delta_bhs</td>    <th>  R-squared:         </th> <td>   0.226</td>\n",
       "</tr>\n",
       "<tr>\n",
       "  <th>Model:</th>                   <td>OLS</td>       <th>  Adj. R-squared:    </th> <td>   0.226</td>\n",
       "</tr>\n",
       "<tr>\n",
       "  <th>Method:</th>             <td>Least Squares</td>  <th>  F-statistic:       </th> <td>   677.7</td>\n",
       "</tr>\n",
       "<tr>\n",
       "  <th>Date:</th>             <td>Thu, 24 Aug 2023</td> <th>  Prob (F-statistic):</th>  <td>  0.00</td> \n",
       "</tr>\n",
       "<tr>\n",
       "  <th>Time:</th>                 <td>14:59:41</td>     <th>  Log-Likelihood:    </th> <td>  4373.1</td>\n",
       "</tr>\n",
       "<tr>\n",
       "  <th>No. Observations:</th>      <td>  6962</td>      <th>  AIC:               </th> <td>  -8738.</td>\n",
       "</tr>\n",
       "<tr>\n",
       "  <th>Df Residuals:</th>          <td>  6958</td>      <th>  BIC:               </th> <td>  -8711.</td>\n",
       "</tr>\n",
       "<tr>\n",
       "  <th>Df Model:</th>              <td>     3</td>      <th>                     </th>     <td> </td>   \n",
       "</tr>\n",
       "<tr>\n",
       "  <th>Covariance Type:</th>      <td>nonrobust</td>    <th>                     </th>     <td> </td>   \n",
       "</tr>\n",
       "</table>\n",
       "<table class=\"simpletable\">\n",
       "<tr>\n",
       "                           <td></td>                              <th>coef</th>     <th>std err</th>      <th>t</th>      <th>P>|t|</th>  <th>[0.025</th>    <th>0.975]</th>  \n",
       "</tr>\n",
       "<tr>\n",
       "  <th>Intercept</th>                                           <td>    0.1031</td> <td>    0.003</td> <td>   36.815</td> <td> 0.000</td> <td>    0.098</td> <td>    0.109</td>\n",
       "</tr>\n",
       "<tr>\n",
       "  <th>Q('vascular_diagnosis.0.0')[T.Prefer not to answer]</th> <td>   -0.0019</td> <td>    0.037</td> <td>   -0.050</td> <td> 0.960</td> <td>   -0.075</td> <td>    0.071</td>\n",
       "</tr>\n",
       "<tr>\n",
       "  <th>Q('vascular_diagnosis.0.0')[T.Heart attack]</th>         <td> 9.717e-17</td> <td> 4.05e-18</td> <td>   24.011</td> <td> 0.000</td> <td> 8.92e-17</td> <td> 1.05e-16</td>\n",
       "</tr>\n",
       "<tr>\n",
       "  <th>Q('vascular_diagnosis.0.0')[T.Angina]</th>               <td>-5.394e-19</td> <td> 8.29e-18</td> <td>   -0.065</td> <td> 0.948</td> <td>-1.68e-17</td> <td> 1.57e-17</td>\n",
       "</tr>\n",
       "<tr>\n",
       "  <th>Q('vascular_diagnosis.0.0')[T.Stroke]</th>               <td>         0</td> <td>        0</td> <td>      nan</td> <td>   nan</td> <td>        0</td> <td>        0</td>\n",
       "</tr>\n",
       "<tr>\n",
       "  <th>Q('vascular_diagnosis.0.0')[T.High blood pressure]</th>  <td>    0.0243</td> <td>    0.004</td> <td>    6.347</td> <td> 0.000</td> <td>    0.017</td> <td>    0.032</td>\n",
       "</tr>\n",
       "<tr>\n",
       "  <th>Q('bhs_score.0.0')</th>                                  <td>   -0.4355</td> <td>    0.010</td> <td>  -44.782</td> <td> 0.000</td> <td>   -0.455</td> <td>   -0.416</td>\n",
       "</tr>\n",
       "</table>\n",
       "<table class=\"simpletable\">\n",
       "<tr>\n",
       "  <th>Omnibus:</th>       <td>211.054</td> <th>  Durbin-Watson:     </th> <td>   2.015</td>\n",
       "</tr>\n",
       "<tr>\n",
       "  <th>Prob(Omnibus):</th> <td> 0.000</td>  <th>  Jarque-Bera (JB):  </th> <td> 232.014</td>\n",
       "</tr>\n",
       "<tr>\n",
       "  <th>Skew:</th>          <td> 0.424</td>  <th>  Prob(JB):          </th> <td>4.16e-51</td>\n",
       "</tr>\n",
       "<tr>\n",
       "  <th>Kurtosis:</th>      <td> 3.286</td>  <th>  Cond. No.          </th> <td>6.57e+34</td>\n",
       "</tr>\n",
       "</table><br/><br/>Notes:<br/>[1] Standard Errors assume that the covariance matrix of the errors is correctly specified.<br/>[2] The smallest eigenvalue is 1.82e-66. This might indicate that there are<br/>strong multicollinearity problems or that the design matrix is singular."
      ],
      "text/latex": [
       "\\begin{center}\n",
       "\\begin{tabular}{lclc}\n",
       "\\toprule\n",
       "\\textbf{Dep. Variable:}                                       &    delta\\_bhs    & \\textbf{  R-squared:         } &     0.226   \\\\\n",
       "\\textbf{Model:}                                               &       OLS        & \\textbf{  Adj. R-squared:    } &     0.226   \\\\\n",
       "\\textbf{Method:}                                              &  Least Squares   & \\textbf{  F-statistic:       } &     677.7   \\\\\n",
       "\\textbf{Date:}                                                & Thu, 24 Aug 2023 & \\textbf{  Prob (F-statistic):} &     0.00    \\\\\n",
       "\\textbf{Time:}                                                &     14:59:41     & \\textbf{  Log-Likelihood:    } &    4373.1   \\\\\n",
       "\\textbf{No. Observations:}                                    &        6962      & \\textbf{  AIC:               } &    -8738.   \\\\\n",
       "\\textbf{Df Residuals:}                                        &        6958      & \\textbf{  BIC:               } &    -8711.   \\\\\n",
       "\\textbf{Df Model:}                                            &           3      & \\textbf{                     } &             \\\\\n",
       "\\textbf{Covariance Type:}                                     &    nonrobust     & \\textbf{                     } &             \\\\\n",
       "\\bottomrule\n",
       "\\end{tabular}\n",
       "\\begin{tabular}{lcccccc}\n",
       "                                                              & \\textbf{coef} & \\textbf{std err} & \\textbf{t} & \\textbf{P$> |$t$|$} & \\textbf{[0.025} & \\textbf{0.975]}  \\\\\n",
       "\\midrule\n",
       "\\textbf{Intercept}                                            &       0.1031  &        0.003     &    36.815  &         0.000        &        0.098    &        0.109     \\\\\n",
       "\\textbf{Q('vascular\\_diagnosis.0.0')[T.Prefer not to answer]} &      -0.0019  &        0.037     &    -0.050  &         0.960        &       -0.075    &        0.071     \\\\\n",
       "\\textbf{Q('vascular\\_diagnosis.0.0')[T.Heart attack]}         &    9.717e-17  &     4.05e-18     &    24.011  &         0.000        &     8.92e-17    &     1.05e-16     \\\\\n",
       "\\textbf{Q('vascular\\_diagnosis.0.0')[T.Angina]}               &   -5.394e-19  &     8.29e-18     &    -0.065  &         0.948        &    -1.68e-17    &     1.57e-17     \\\\\n",
       "\\textbf{Q('vascular\\_diagnosis.0.0')[T.Stroke]}               &            0  &            0     &       nan  &           nan        &            0    &            0     \\\\\n",
       "\\textbf{Q('vascular\\_diagnosis.0.0')[T.High blood pressure]}  &       0.0243  &        0.004     &     6.347  &         0.000        &        0.017    &        0.032     \\\\\n",
       "\\textbf{Q('bhs\\_score.0.0')}                                  &      -0.4355  &        0.010     &   -44.782  &         0.000        &       -0.455    &       -0.416     \\\\\n",
       "\\bottomrule\n",
       "\\end{tabular}\n",
       "\\begin{tabular}{lclc}\n",
       "\\textbf{Omnibus:}       & 211.054 & \\textbf{  Durbin-Watson:     } &    2.015  \\\\\n",
       "\\textbf{Prob(Omnibus):} &   0.000 & \\textbf{  Jarque-Bera (JB):  } &  232.014  \\\\\n",
       "\\textbf{Skew:}          &   0.424 & \\textbf{  Prob(JB):          } & 4.16e-51  \\\\\n",
       "\\textbf{Kurtosis:}      &   3.286 & \\textbf{  Cond. No.          } & 6.57e+34  \\\\\n",
       "\\bottomrule\n",
       "\\end{tabular}\n",
       "%\\caption{OLS Regression Results}\n",
       "\\end{center}\n",
       "\n",
       "Notes: \\newline\n",
       " [1] Standard Errors assume that the covariance matrix of the errors is correctly specified. \\newline\n",
       " [2] The smallest eigenvalue is 1.82e-66. This might indicate that there are \\newline\n",
       " strong multicollinearity problems or that the design matrix is singular."
      ],
      "text/plain": [
       "<class 'statsmodels.iolib.summary.Summary'>\n",
       "\"\"\"\n",
       "                            OLS Regression Results                            \n",
       "==============================================================================\n",
       "Dep. Variable:              delta_bhs   R-squared:                       0.226\n",
       "Model:                            OLS   Adj. R-squared:                  0.226\n",
       "Method:                 Least Squares   F-statistic:                     677.7\n",
       "Date:                Thu, 24 Aug 2023   Prob (F-statistic):               0.00\n",
       "Time:                        14:59:41   Log-Likelihood:                 4373.1\n",
       "No. Observations:                6962   AIC:                            -8738.\n",
       "Df Residuals:                    6958   BIC:                            -8711.\n",
       "Df Model:                           3                                         \n",
       "Covariance Type:            nonrobust                                         \n",
       "=======================================================================================================================\n",
       "                                                          coef    std err          t      P>|t|      [0.025      0.975]\n",
       "-----------------------------------------------------------------------------------------------------------------------\n",
       "Intercept                                               0.1031      0.003     36.815      0.000       0.098       0.109\n",
       "Q('vascular_diagnosis.0.0')[T.Prefer not to answer]    -0.0019      0.037     -0.050      0.960      -0.075       0.071\n",
       "Q('vascular_diagnosis.0.0')[T.Heart attack]          9.717e-17   4.05e-18     24.011      0.000    8.92e-17    1.05e-16\n",
       "Q('vascular_diagnosis.0.0')[T.Angina]               -5.394e-19   8.29e-18     -0.065      0.948   -1.68e-17    1.57e-17\n",
       "Q('vascular_diagnosis.0.0')[T.Stroke]                        0          0        nan        nan           0           0\n",
       "Q('vascular_diagnosis.0.0')[T.High blood pressure]      0.0243      0.004      6.347      0.000       0.017       0.032\n",
       "Q('bhs_score.0.0')                                     -0.4355      0.010    -44.782      0.000      -0.455      -0.416\n",
       "==============================================================================\n",
       "Omnibus:                      211.054   Durbin-Watson:                   2.015\n",
       "Prob(Omnibus):                  0.000   Jarque-Bera (JB):              232.014\n",
       "Skew:                           0.424   Prob(JB):                     4.16e-51\n",
       "Kurtosis:                       3.286   Cond. No.                     6.57e+34\n",
       "==============================================================================\n",
       "\n",
       "Notes:\n",
       "[1] Standard Errors assume that the covariance matrix of the errors is correctly specified.\n",
       "[2] The smallest eigenvalue is 1.82e-66. This might indicate that there are\n",
       "strong multicollinearity problems or that the design matrix is singular.\n",
       "\"\"\""
      ]
     },
     "execution_count": 31,
     "metadata": {},
     "output_type": "execute_result"
    }
   ],
   "source": [
    "vascular.summary()"
   ]
  },
  {
   "cell_type": "code",
   "execution_count": 32,
   "metadata": {},
   "outputs": [
    {
     "data": {
      "text/plain": [
       "Intercept                                              1.031346e-01\n",
       "Q('vascular_diagnosis.0.0')[T.Prefer not to answer]   -1.860747e-03\n",
       "Q('vascular_diagnosis.0.0')[T.Heart attack]            9.716805e-17\n",
       "Q('vascular_diagnosis.0.0')[T.Angina]                 -5.393755e-19\n",
       "Q('vascular_diagnosis.0.0')[T.Stroke]                  0.000000e+00\n",
       "Q('vascular_diagnosis.0.0')[T.High blood pressure]     2.428578e-02\n",
       "Q('bhs_score.0.0')                                    -4.354754e-01\n",
       "dtype: float64"
      ]
     },
     "execution_count": 32,
     "metadata": {},
     "output_type": "execute_result"
    }
   ],
   "source": [
    "vascular.params"
   ]
  },
  {
   "cell_type": "code",
   "execution_count": 45,
   "metadata": {},
   "outputs": [
    {
     "data": {
      "text/plain": [
       "Index(['Intercept', 'Q('vascular_diagnosis.0.0')[T.Prefer not to answer]',\n",
       "       'Q('vascular_diagnosis.0.0')[T.Heart attack]',\n",
       "       'Q('vascular_diagnosis.0.0')[T.Angina]',\n",
       "       'Q('vascular_diagnosis.0.0')[T.Stroke]',\n",
       "       'Q('vascular_diagnosis.0.0')[T.High blood pressure]',\n",
       "       'Q('bhs_score.0.0')'],\n",
       "      dtype='object')"
      ]
     },
     "execution_count": 45,
     "metadata": {},
     "output_type": "execute_result"
    }
   ],
   "source": [
    "vascular.conf_int().index"
   ]
  },
  {
   "cell_type": "code",
   "execution_count": 47,
   "metadata": {},
   "outputs": [
    {
     "data": {
      "text/plain": [
       "Q('vascular_diagnosis.0.0')[T.Prefer not to answer]     9.602636e-01\n",
       "Q('vascular_diagnosis.0.0')[T.Heart attack]            1.839143e-122\n",
       "Q('vascular_diagnosis.0.0')[T.Angina]                   9.481433e-01\n",
       "Q('vascular_diagnosis.0.0')[T.Stroke]                            NaN\n",
       "Q('vascular_diagnosis.0.0')[T.High blood pressure]      2.330953e-10\n",
       "dtype: float64"
      ]
     },
     "execution_count": 47,
     "metadata": {},
     "output_type": "execute_result"
    }
   ],
   "source": [
    "vascular.pvalues[~vascular.pvalues.index.str.contains(\"Intercept|bhs_score\")]"
   ]
  },
  {
   "cell_type": "code",
   "execution_count": 52,
   "metadata": {},
   "outputs": [
    {
     "data": {
      "text/plain": [
       "Q('vascular_diagnosis.0.0')[T.Prefer not to answer]   -7.507013e-02\n",
       "Q('vascular_diagnosis.0.0')[T.Heart attack]            8.923502e-17\n",
       "Q('vascular_diagnosis.0.0')[T.Angina]                 -1.679591e-17\n",
       "Q('vascular_diagnosis.0.0')[T.Stroke]                  0.000000e+00\n",
       "Q('vascular_diagnosis.0.0')[T.High blood pressure]     1.678519e-02\n",
       "Name: 0, dtype: float64"
      ]
     },
     "execution_count": 52,
     "metadata": {},
     "output_type": "execute_result"
    }
   ],
   "source": [
    "vascular.conf_int()[~vascular.conf_int().index.str.contains(\"Intercept|bhs_score\")][0]"
   ]
  },
  {
   "cell_type": "code",
   "execution_count": 54,
   "metadata": {},
   "outputs": [
    {
     "ename": "AttributeError",
     "evalue": "'numpy.ndarray' object has no attribute 'extract'",
     "output_type": "error",
     "traceback": [
      "\u001b[0;31m---------------------------------------------------------------------------\u001b[0m",
      "\u001b[0;31mAttributeError\u001b[0m                            Traceback (most recent call last)",
      "Cell \u001b[0;32mIn[54], line 1\u001b[0m\n\u001b[0;32m----> 1\u001b[0m \u001b[43mvascular\u001b[49m\u001b[38;5;241;43m.\u001b[39;49m\u001b[43mparams\u001b[49m\u001b[38;5;241;43m.\u001b[39;49m\u001b[43mindex\u001b[49m\u001b[38;5;241;43m.\u001b[39;49m\u001b[43mstr\u001b[49m\u001b[38;5;241;43m.\u001b[39;49m\u001b[43mcontains\u001b[49m\u001b[43m(\u001b[49m\u001b[38;5;124;43m\"\u001b[39;49m\u001b[38;5;124;43mIntercept|bhs_score\u001b[39;49m\u001b[38;5;124;43m\"\u001b[39;49m\u001b[43m)\u001b[49m\u001b[38;5;241;43m.\u001b[39;49m\u001b[43mextract\u001b[49m()\n",
      "\u001b[0;31mAttributeError\u001b[0m: 'numpy.ndarray' object has no attribute 'extract'"
     ]
    }
   ],
   "source": [
    "vascular.params.index.str.contains(\"Intercept|bhs_score\")"
   ]
  },
  {
   "cell_type": "code",
   "execution_count": 35,
   "metadata": {},
   "outputs": [
    {
     "data": {
      "text/html": [
       "<div>\n",
       "<style scoped>\n",
       "    .dataframe tbody tr th:only-of-type {\n",
       "        vertical-align: middle;\n",
       "    }\n",
       "\n",
       "    .dataframe tbody tr th {\n",
       "        vertical-align: top;\n",
       "    }\n",
       "\n",
       "    .dataframe thead th {\n",
       "        text-align: right;\n",
       "    }\n",
       "</style>\n",
       "<table border=\"1\" class=\"dataframe\">\n",
       "  <thead>\n",
       "    <tr style=\"text-align: right;\">\n",
       "      <th></th>\n",
       "      <th>eid</th>\n",
       "      <th>waist.0.0</th>\n",
       "      <th>waist.1.0</th>\n",
       "    </tr>\n",
       "  </thead>\n",
       "  <tbody>\n",
       "    <tr>\n",
       "      <th>0</th>\n",
       "      <td>1001043</td>\n",
       "      <td>72.0</td>\n",
       "      <td>79.0</td>\n",
       "    </tr>\n",
       "    <tr>\n",
       "      <th>1</th>\n",
       "      <td>1001786</td>\n",
       "      <td>71.0</td>\n",
       "      <td>79.0</td>\n",
       "    </tr>\n",
       "    <tr>\n",
       "      <th>2</th>\n",
       "      <td>1002061</td>\n",
       "      <td>99.0</td>\n",
       "      <td>94.0</td>\n",
       "    </tr>\n",
       "    <tr>\n",
       "      <th>3</th>\n",
       "      <td>1002553</td>\n",
       "      <td>74.0</td>\n",
       "      <td>90.0</td>\n",
       "    </tr>\n",
       "    <tr>\n",
       "      <th>4</th>\n",
       "      <td>1002908</td>\n",
       "      <td>120.0</td>\n",
       "      <td>108.0</td>\n",
       "    </tr>\n",
       "  </tbody>\n",
       "</table>\n",
       "</div>"
      ],
      "text/plain": [
       "       eid  waist.0.0  waist.1.0\n",
       "0  1001043       72.0       79.0\n",
       "1  1001786       71.0       79.0\n",
       "2  1002061       99.0       94.0\n",
       "3  1002553       74.0       90.0\n",
       "4  1002908      120.0      108.0"
      ]
     },
     "execution_count": 35,
     "metadata": {},
     "output_type": "execute_result"
    }
   ],
   "source": [
    "df1.iloc[:,0:3].head()"
   ]
  },
  {
   "cell_type": "code",
   "execution_count": null,
   "metadata": {},
   "outputs": [],
   "source": []
  }
 ],
 "metadata": {
  "kernelspec": {
   "display_name": "Python [conda env:ploomber]",
   "language": "python",
   "name": "conda-env-ploomber-py"
  },
  "language_info": {
   "codemirror_mode": {
    "name": "ipython",
    "version": 3
   },
   "file_extension": ".py",
   "mimetype": "text/x-python",
   "name": "python",
   "nbconvert_exporter": "python",
   "pygments_lexer": "ipython3",
   "version": "3.10.12"
  }
 },
 "nbformat": 4,
 "nbformat_minor": 2
}
