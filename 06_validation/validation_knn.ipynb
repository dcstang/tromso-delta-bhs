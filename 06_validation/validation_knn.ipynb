{
 "cells": [
  {
   "cell_type": "code",
   "execution_count": null,
   "metadata": {},
   "outputs": [],
   "source": [
    "\"\"\"\n",
    "    Validate KNN\n",
    "    Seems to break the 1.0 biomarkers ? \n",
    "    we are currently:\n",
    "       knn for whole cohort - maybe split this into age groups as with bhs\n",
    "       default n_neighbours = 5 >>> test split and validate with scoring \n",
    "\"\"\""
   ]
  },
  {
   "cell_type": "code",
   "execution_count": 1,
   "metadata": {},
   "outputs": [],
   "source": [
    "import progressbar"
   ]
  },
  {
   "cell_type": "code",
   "execution_count": 2,
   "metadata": {},
   "outputs": [],
   "source": [
    "import sys\n",
    "sys.path.append(\"../\")\n",
    "\n",
    "import pandas as pd\n",
    "import numpy as np\n",
    "from functions.bhs_calc_functions import getAgeGroupList, getAgeThresholds, \\\n",
    "                                    checkListClean, biomarkerScore, count_scores\n",
    "from sklearn.impute import KNNImputer\n",
    "from functions.pca_bhs import *\n",
    "\n",
    "# %% tags=[\"parameters\"]\n",
    "upstream = ['Pull dietary variables']\n",
    "product = None\n",
    "biomarker_lower_quartile_scored = None\n",
    "complete_cases = None\n",
    "knn_impute = None\n",
    "continuous_pca_biomarker = None\n",
    "\n",
    "#%% data preparation\n",
    "df = pd.read_parquet('../data/processed_data/04_ukbb_outcome_trimmed_diet.parquet')"
   ]
  },
  {
   "cell_type": "code",
   "execution_count": 3,
   "metadata": {},
   "outputs": [],
   "source": [
    "# assessmentDatesDf = pd.read_csv(\n",
    "#     \"~/UKBB/UKB_preparation_in_progress/extraction_recoding/data/ukb47946.csv\",\n",
    "#     usecols=[\"eid\",\"53-0.0\",\"53-1.0\"],\n",
    "#     parse_dates=[\"53-0.0\",\"53-1.0\"])\n",
    "# assessmentDatesDf.to_parquet(\"../data/ukb_assessment_dates.parquet\", index=False)"
   ]
  },
  {
   "cell_type": "code",
   "execution_count": 4,
   "metadata": {},
   "outputs": [],
   "source": [
    "# assessmentDatesDf"
   ]
  },
  {
   "cell_type": "code",
   "execution_count": 5,
   "metadata": {},
   "outputs": [
    {
     "name": "stdout",
     "output_type": "stream",
     "text": [
      "94123\n"
     ]
    }
   ],
   "source": [
    "# get dates for checking if came for followup & for cox regression later \n",
    "# assessmentDatesDf = pd.read_csv(\n",
    "#     \"~/UKBB/UKB_preparation_in_progress/extraction_recoding/data/ukb47946.csv\",\n",
    "#     usecols=[\"eid\",\"53-0.0\",\"53-1.0\"],\n",
    "#     parse_dates=[\"53-0.0\",\"53-1.0\"])\n",
    "\n",
    "assessmentDatesDf = pd.read_parquet(\"../data/ukb_assessment_dates.parquet\")\n",
    "\n",
    "df = pd.merge(\n",
    "    df,\n",
    "    assessmentDatesDf,\n",
    "    how=\"left\",\n",
    "    on=\"eid\")\n",
    "\n",
    "df = df.rename(columns={\"genetic_sex.0.0\":\"sex\"})\n",
    "\n",
    "markersList = [\"glycated_haemoglobin\",\"HDL_cholesterol\",\"LDL_direct\",\"triglycerides\",\"systolic_bp\",\"diastolic_bp\",\n",
    " \"pulse_rate\",\"c.reactive_protein\",\"IGF1\",\"creatinine\", \"cystatin_C\", \"alanine_aminotransferase\",\n",
    " \"aspartate_aminotransferase\",\"gamma_glutamyltransferase\"]\n",
    "\n",
    "biomarkersColumns = df.columns[\n",
    "    df.columns.str.contains('|'.join([x+\".0.0\" for x in markersList]))|\n",
    "    df.columns.str.contains('|'.join([x+\".1.0\" for x in markersList]))\n",
    "].append(pd.Index([\"eid\", \"age.0.0\", \"age.1.0\", \"sex\"]))\n",
    "\n",
    "prevalentDisease = df[\n",
    "    (df[\"prevalentCancer\"]==1)|\n",
    "    (df[\"prevalentCad\"]==1)|\n",
    "    (df[\"prevalentCVD\"]==1)][\"eid\"]\n",
    "\n",
    "print(len(prevalentDisease))"
   ]
  },
  {
   "cell_type": "code",
   "execution_count": 6,
   "metadata": {},
   "outputs": [
    {
     "name": "stdout",
     "output_type": "stream",
     "text": [
      "<class 'pandas.core.frame.DataFrame'>\n",
      "RangeIndex: 502461 entries, 0 to 502460\n",
      "Data columns (total 3 columns):\n",
      " #   Column  Non-Null Count   Dtype         \n",
      "---  ------  --------------   -----         \n",
      " 0   eid     502461 non-null  int64         \n",
      " 1   53-0.0  502460 non-null  datetime64[ns]\n",
      " 2   53-1.0  20344 non-null   datetime64[ns]\n",
      "dtypes: datetime64[ns](2), int64(1)\n",
      "memory usage: 11.5 MB\n"
     ]
    }
   ],
   "source": [
    "assessmentDatesDf.info()"
   ]
  },
  {
   "cell_type": "code",
   "execution_count": 7,
   "metadata": {},
   "outputs": [],
   "source": [
    "# population selection\n",
    "biomarkersDf = df[~(df[\"eid\"].isin(prevalentDisease)) &\n",
    "                  (pd.notnull(df[\"53-1.0\"])) & \n",
    "                  (pd.notnull(df[\"sex\"]))]\n",
    "biomarkersDf = biomarkersDf[biomarkersColumns]\n",
    "# biomarkersDf = biomarkersDf.dropna()\n",
    "completeCasesDf = biomarkersDf.dropna()"
   ]
  },
  {
   "cell_type": "code",
   "execution_count": 8,
   "metadata": {},
   "outputs": [
    {
     "data": {
      "text/html": [
       "<div>\n",
       "<style scoped>\n",
       "    .dataframe tbody tr th:only-of-type {\n",
       "        vertical-align: middle;\n",
       "    }\n",
       "\n",
       "    .dataframe tbody tr th {\n",
       "        vertical-align: top;\n",
       "    }\n",
       "\n",
       "    .dataframe thead th {\n",
       "        text-align: right;\n",
       "    }\n",
       "</style>\n",
       "<table border=\"1\" class=\"dataframe\">\n",
       "  <thead>\n",
       "    <tr style=\"text-align: right;\">\n",
       "      <th></th>\n",
       "      <th>pulse_rate.0.0</th>\n",
       "      <th>pulse_rate.1.0</th>\n",
       "      <th>diastolic_bp.0.0</th>\n",
       "      <th>diastolic_bp.1.0</th>\n",
       "      <th>systolic_bp.0.0</th>\n",
       "      <th>systolic_bp.1.0</th>\n",
       "      <th>alanine_aminotransferase.0.0</th>\n",
       "      <th>alanine_aminotransferase.1.0</th>\n",
       "      <th>aspartate_aminotransferase.0.0</th>\n",
       "      <th>aspartate_aminotransferase.1.0</th>\n",
       "      <th>...</th>\n",
       "      <th>IGF1.0.0</th>\n",
       "      <th>IGF1.1.0</th>\n",
       "      <th>LDL_direct.0.0</th>\n",
       "      <th>LDL_direct.1.0</th>\n",
       "      <th>triglycerides.0.0</th>\n",
       "      <th>triglycerides.1.0</th>\n",
       "      <th>eid</th>\n",
       "      <th>age.0.0</th>\n",
       "      <th>age.1.0</th>\n",
       "      <th>sex</th>\n",
       "    </tr>\n",
       "  </thead>\n",
       "  <tbody>\n",
       "    <tr>\n",
       "      <th>3</th>\n",
       "      <td>64.0</td>\n",
       "      <td>64.0</td>\n",
       "      <td>73.0</td>\n",
       "      <td>81.0</td>\n",
       "      <td>133.0</td>\n",
       "      <td>132.0</td>\n",
       "      <td>32.91</td>\n",
       "      <td>NaN</td>\n",
       "      <td>24.3</td>\n",
       "      <td>NaN</td>\n",
       "      <td>...</td>\n",
       "      <td>19.058</td>\n",
       "      <td>NaN</td>\n",
       "      <td>3.774</td>\n",
       "      <td>NaN</td>\n",
       "      <td>3.087</td>\n",
       "      <td>NaN</td>\n",
       "      <td>1000049</td>\n",
       "      <td>41.0</td>\n",
       "      <td>44.0</td>\n",
       "      <td>Male</td>\n",
       "    </tr>\n",
       "    <tr>\n",
       "      <th>6</th>\n",
       "      <td>78.0</td>\n",
       "      <td>84.0</td>\n",
       "      <td>117.0</td>\n",
       "      <td>99.0</td>\n",
       "      <td>191.0</td>\n",
       "      <td>179.0</td>\n",
       "      <td>NaN</td>\n",
       "      <td>14.14</td>\n",
       "      <td>NaN</td>\n",
       "      <td>21.0</td>\n",
       "      <td>...</td>\n",
       "      <td>NaN</td>\n",
       "      <td>20.923</td>\n",
       "      <td>NaN</td>\n",
       "      <td>4.011</td>\n",
       "      <td>NaN</td>\n",
       "      <td>0.795</td>\n",
       "      <td>1000070</td>\n",
       "      <td>66.0</td>\n",
       "      <td>69.0</td>\n",
       "      <td>Female</td>\n",
       "    </tr>\n",
       "    <tr>\n",
       "      <th>59</th>\n",
       "      <td>49.0</td>\n",
       "      <td>52.0</td>\n",
       "      <td>75.0</td>\n",
       "      <td>77.0</td>\n",
       "      <td>123.0</td>\n",
       "      <td>126.0</td>\n",
       "      <td>NaN</td>\n",
       "      <td>18.12</td>\n",
       "      <td>NaN</td>\n",
       "      <td>23.5</td>\n",
       "      <td>...</td>\n",
       "      <td>NaN</td>\n",
       "      <td>17.067</td>\n",
       "      <td>NaN</td>\n",
       "      <td>4.650</td>\n",
       "      <td>NaN</td>\n",
       "      <td>1.097</td>\n",
       "      <td>1000606</td>\n",
       "      <td>53.0</td>\n",
       "      <td>58.0</td>\n",
       "      <td>Female</td>\n",
       "    </tr>\n",
       "    <tr>\n",
       "      <th>60</th>\n",
       "      <td>71.0</td>\n",
       "      <td>55.0</td>\n",
       "      <td>83.0</td>\n",
       "      <td>83.0</td>\n",
       "      <td>141.0</td>\n",
       "      <td>135.0</td>\n",
       "      <td>17.81</td>\n",
       "      <td>19.58</td>\n",
       "      <td>24.3</td>\n",
       "      <td>23.0</td>\n",
       "      <td>...</td>\n",
       "      <td>29.094</td>\n",
       "      <td>19.039</td>\n",
       "      <td>4.648</td>\n",
       "      <td>5.030</td>\n",
       "      <td>3.114</td>\n",
       "      <td>2.096</td>\n",
       "      <td>1000612</td>\n",
       "      <td>59.0</td>\n",
       "      <td>62.0</td>\n",
       "      <td>Male</td>\n",
       "    </tr>\n",
       "    <tr>\n",
       "      <th>102</th>\n",
       "      <td>65.0</td>\n",
       "      <td>66.0</td>\n",
       "      <td>81.0</td>\n",
       "      <td>78.0</td>\n",
       "      <td>140.0</td>\n",
       "      <td>151.0</td>\n",
       "      <td>31.02</td>\n",
       "      <td>23.70</td>\n",
       "      <td>30.8</td>\n",
       "      <td>28.4</td>\n",
       "      <td>...</td>\n",
       "      <td>12.292</td>\n",
       "      <td>12.815</td>\n",
       "      <td>3.720</td>\n",
       "      <td>3.645</td>\n",
       "      <td>1.495</td>\n",
       "      <td>1.795</td>\n",
       "      <td>1001037</td>\n",
       "      <td>61.0</td>\n",
       "      <td>66.0</td>\n",
       "      <td>Male</td>\n",
       "    </tr>\n",
       "    <tr>\n",
       "      <th>...</th>\n",
       "      <td>...</td>\n",
       "      <td>...</td>\n",
       "      <td>...</td>\n",
       "      <td>...</td>\n",
       "      <td>...</td>\n",
       "      <td>...</td>\n",
       "      <td>...</td>\n",
       "      <td>...</td>\n",
       "      <td>...</td>\n",
       "      <td>...</td>\n",
       "      <td>...</td>\n",
       "      <td>...</td>\n",
       "      <td>...</td>\n",
       "      <td>...</td>\n",
       "      <td>...</td>\n",
       "      <td>...</td>\n",
       "      <td>...</td>\n",
       "      <td>...</td>\n",
       "      <td>...</td>\n",
       "      <td>...</td>\n",
       "      <td>...</td>\n",
       "    </tr>\n",
       "    <tr>\n",
       "      <th>502229</th>\n",
       "      <td>55.0</td>\n",
       "      <td>53.0</td>\n",
       "      <td>83.0</td>\n",
       "      <td>87.0</td>\n",
       "      <td>146.0</td>\n",
       "      <td>167.0</td>\n",
       "      <td>26.81</td>\n",
       "      <td>24.75</td>\n",
       "      <td>34.6</td>\n",
       "      <td>30.7</td>\n",
       "      <td>...</td>\n",
       "      <td>17.010</td>\n",
       "      <td>15.715</td>\n",
       "      <td>2.945</td>\n",
       "      <td>2.542</td>\n",
       "      <td>2.064</td>\n",
       "      <td>2.481</td>\n",
       "      <td>6022596</td>\n",
       "      <td>64.0</td>\n",
       "      <td>69.0</td>\n",
       "      <td>Male</td>\n",
       "    </tr>\n",
       "    <tr>\n",
       "      <th>502266</th>\n",
       "      <td>86.0</td>\n",
       "      <td>86.0</td>\n",
       "      <td>79.0</td>\n",
       "      <td>75.0</td>\n",
       "      <td>144.0</td>\n",
       "      <td>153.0</td>\n",
       "      <td>25.03</td>\n",
       "      <td>NaN</td>\n",
       "      <td>25.3</td>\n",
       "      <td>NaN</td>\n",
       "      <td>...</td>\n",
       "      <td>22.629</td>\n",
       "      <td>NaN</td>\n",
       "      <td>2.729</td>\n",
       "      <td>NaN</td>\n",
       "      <td>2.225</td>\n",
       "      <td>NaN</td>\n",
       "      <td>6022966</td>\n",
       "      <td>57.0</td>\n",
       "      <td>61.0</td>\n",
       "      <td>Female</td>\n",
       "    </tr>\n",
       "    <tr>\n",
       "      <th>502416</th>\n",
       "      <td>68.0</td>\n",
       "      <td>65.0</td>\n",
       "      <td>82.0</td>\n",
       "      <td>80.0</td>\n",
       "      <td>145.0</td>\n",
       "      <td>132.0</td>\n",
       "      <td>20.49</td>\n",
       "      <td>32.04</td>\n",
       "      <td>19.3</td>\n",
       "      <td>23.2</td>\n",
       "      <td>...</td>\n",
       "      <td>22.079</td>\n",
       "      <td>22.698</td>\n",
       "      <td>3.753</td>\n",
       "      <td>3.400</td>\n",
       "      <td>1.392</td>\n",
       "      <td>1.607</td>\n",
       "      <td>6024466</td>\n",
       "      <td>55.0</td>\n",
       "      <td>59.0</td>\n",
       "      <td>Male</td>\n",
       "    </tr>\n",
       "    <tr>\n",
       "      <th>502437</th>\n",
       "      <td>58.0</td>\n",
       "      <td>64.0</td>\n",
       "      <td>77.0</td>\n",
       "      <td>76.0</td>\n",
       "      <td>127.0</td>\n",
       "      <td>128.0</td>\n",
       "      <td>14.72</td>\n",
       "      <td>23.75</td>\n",
       "      <td>17.0</td>\n",
       "      <td>21.9</td>\n",
       "      <td>...</td>\n",
       "      <td>28.218</td>\n",
       "      <td>28.866</td>\n",
       "      <td>4.018</td>\n",
       "      <td>4.164</td>\n",
       "      <td>1.050</td>\n",
       "      <td>1.185</td>\n",
       "      <td>6024672</td>\n",
       "      <td>41.0</td>\n",
       "      <td>46.0</td>\n",
       "      <td>Male</td>\n",
       "    </tr>\n",
       "    <tr>\n",
       "      <th>502459</th>\n",
       "      <td>57.0</td>\n",
       "      <td>47.0</td>\n",
       "      <td>84.0</td>\n",
       "      <td>82.0</td>\n",
       "      <td>129.0</td>\n",
       "      <td>136.0</td>\n",
       "      <td>21.18</td>\n",
       "      <td>28.73</td>\n",
       "      <td>30.7</td>\n",
       "      <td>36.3</td>\n",
       "      <td>...</td>\n",
       "      <td>13.642</td>\n",
       "      <td>14.334</td>\n",
       "      <td>2.824</td>\n",
       "      <td>2.893</td>\n",
       "      <td>4.072</td>\n",
       "      <td>2.079</td>\n",
       "      <td>6024890</td>\n",
       "      <td>58.0</td>\n",
       "      <td>61.0</td>\n",
       "      <td>Male</td>\n",
       "    </tr>\n",
       "  </tbody>\n",
       "</table>\n",
       "<p>16847 rows × 32 columns</p>\n",
       "</div>"
      ],
      "text/plain": [
       "        pulse_rate.0.0  pulse_rate.1.0  diastolic_bp.0.0  diastolic_bp.1.0  \\\n",
       "3                 64.0            64.0              73.0              81.0   \n",
       "6                 78.0            84.0             117.0              99.0   \n",
       "59                49.0            52.0              75.0              77.0   \n",
       "60                71.0            55.0              83.0              83.0   \n",
       "102               65.0            66.0              81.0              78.0   \n",
       "...                ...             ...               ...               ...   \n",
       "502229            55.0            53.0              83.0              87.0   \n",
       "502266            86.0            86.0              79.0              75.0   \n",
       "502416            68.0            65.0              82.0              80.0   \n",
       "502437            58.0            64.0              77.0              76.0   \n",
       "502459            57.0            47.0              84.0              82.0   \n",
       "\n",
       "        systolic_bp.0.0  systolic_bp.1.0  alanine_aminotransferase.0.0  \\\n",
       "3                 133.0            132.0                         32.91   \n",
       "6                 191.0            179.0                           NaN   \n",
       "59                123.0            126.0                           NaN   \n",
       "60                141.0            135.0                         17.81   \n",
       "102               140.0            151.0                         31.02   \n",
       "...                 ...              ...                           ...   \n",
       "502229            146.0            167.0                         26.81   \n",
       "502266            144.0            153.0                         25.03   \n",
       "502416            145.0            132.0                         20.49   \n",
       "502437            127.0            128.0                         14.72   \n",
       "502459            129.0            136.0                         21.18   \n",
       "\n",
       "        alanine_aminotransferase.1.0  aspartate_aminotransferase.0.0  \\\n",
       "3                                NaN                            24.3   \n",
       "6                              14.14                             NaN   \n",
       "59                             18.12                             NaN   \n",
       "60                             19.58                            24.3   \n",
       "102                            23.70                            30.8   \n",
       "...                              ...                             ...   \n",
       "502229                         24.75                            34.6   \n",
       "502266                           NaN                            25.3   \n",
       "502416                         32.04                            19.3   \n",
       "502437                         23.75                            17.0   \n",
       "502459                         28.73                            30.7   \n",
       "\n",
       "        aspartate_aminotransferase.1.0  ...  IGF1.0.0  IGF1.1.0  \\\n",
       "3                                  NaN  ...    19.058       NaN   \n",
       "6                                 21.0  ...       NaN    20.923   \n",
       "59                                23.5  ...       NaN    17.067   \n",
       "60                                23.0  ...    29.094    19.039   \n",
       "102                               28.4  ...    12.292    12.815   \n",
       "...                                ...  ...       ...       ...   \n",
       "502229                            30.7  ...    17.010    15.715   \n",
       "502266                             NaN  ...    22.629       NaN   \n",
       "502416                            23.2  ...    22.079    22.698   \n",
       "502437                            21.9  ...    28.218    28.866   \n",
       "502459                            36.3  ...    13.642    14.334   \n",
       "\n",
       "        LDL_direct.0.0  LDL_direct.1.0  triglycerides.0.0  triglycerides.1.0  \\\n",
       "3                3.774             NaN              3.087                NaN   \n",
       "6                  NaN           4.011                NaN              0.795   \n",
       "59                 NaN           4.650                NaN              1.097   \n",
       "60               4.648           5.030              3.114              2.096   \n",
       "102              3.720           3.645              1.495              1.795   \n",
       "...                ...             ...                ...                ...   \n",
       "502229           2.945           2.542              2.064              2.481   \n",
       "502266           2.729             NaN              2.225                NaN   \n",
       "502416           3.753           3.400              1.392              1.607   \n",
       "502437           4.018           4.164              1.050              1.185   \n",
       "502459           2.824           2.893              4.072              2.079   \n",
       "\n",
       "            eid  age.0.0  age.1.0     sex  \n",
       "3       1000049     41.0     44.0    Male  \n",
       "6       1000070     66.0     69.0  Female  \n",
       "59      1000606     53.0     58.0  Female  \n",
       "60      1000612     59.0     62.0    Male  \n",
       "102     1001037     61.0     66.0    Male  \n",
       "...         ...      ...      ...     ...  \n",
       "502229  6022596     64.0     69.0    Male  \n",
       "502266  6022966     57.0     61.0  Female  \n",
       "502416  6024466     55.0     59.0    Male  \n",
       "502437  6024672     41.0     46.0    Male  \n",
       "502459  6024890     58.0     61.0    Male  \n",
       "\n",
       "[16847 rows x 32 columns]"
      ]
     },
     "execution_count": 8,
     "metadata": {},
     "output_type": "execute_result"
    }
   ],
   "source": [
    "biomarkersDf"
   ]
  },
  {
   "cell_type": "code",
   "execution_count": 9,
   "metadata": {},
   "outputs": [
    {
     "data": {
      "text/plain": [
       "Index(['pulse_rate.0.0', 'pulse_rate.1.0', 'diastolic_bp.0.0',\n",
       "       'diastolic_bp.1.0', 'systolic_bp.0.0', 'systolic_bp.1.0',\n",
       "       'alanine_aminotransferase.0.0', 'alanine_aminotransferase.1.0',\n",
       "       'aspartate_aminotransferase.0.0', 'aspartate_aminotransferase.1.0',\n",
       "       'creatinine.0.0', 'creatinine.1.0', 'c.reactive_protein.0.0',\n",
       "       'c.reactive_protein.1.0', 'cystatin_C.0.0', 'cystatin_C.1.0',\n",
       "       'gamma_glutamyltransferase.0.0', 'gamma_glutamyltransferase.1.0',\n",
       "       'glycated_haemoglobin.0.0', 'glycated_haemoglobin.1.0',\n",
       "       'HDL_cholesterol.0.0', 'HDL_cholesterol.1.0', 'IGF1.0.0', 'IGF1.1.0',\n",
       "       'LDL_direct.0.0', 'LDL_direct.1.0', 'triglycerides.0.0',\n",
       "       'triglycerides.1.0', 'eid', 'age.0.0', 'age.1.0', 'sex'],\n",
       "      dtype='object')"
      ]
     },
     "execution_count": 9,
     "metadata": {},
     "output_type": "execute_result"
    }
   ],
   "source": [
    "biomarkersDf.columns"
   ]
  },
  {
   "cell_type": "code",
   "execution_count": 10,
   "metadata": {},
   "outputs": [
    {
     "data": {
      "text/plain": [
       "alanine_aminotransferase.0.0\n",
       "NaN      1168\n",
       "15.06      19\n",
       "17.55      18\n",
       "16.12      18\n",
       "18.67      18\n",
       "         ... \n",
       "42.67       1\n",
       "59.90       1\n",
       "27.18       1\n",
       "34.61       1\n",
       "35.79       1\n",
       "Name: count, Length: 3986, dtype: int64"
      ]
     },
     "execution_count": 10,
     "metadata": {},
     "output_type": "execute_result"
    }
   ],
   "source": [
    "biomarkersDf[\"alanine_aminotransferase.0.0\"].value_counts(dropna=False)"
   ]
  },
  {
   "cell_type": "code",
   "execution_count": 11,
   "metadata": {},
   "outputs": [
    {
     "name": "stderr",
     "output_type": "stream",
     "text": [
      "100% (6 of 6) |##########################| Elapsed Time: 0:00:07 Time:  0:00:07\n"
     ]
    }
   ],
   "source": [
    "knn = KNNImputer().set_output(transform=\"pandas\")\n",
    "\n",
    "for ageGroup in progressbar.progressbar(getAgeGroupList(biomarkersDf, \"age.0.0\")):\n",
    "    \n",
    "     biomarkersDf.loc[ageGroup,\n",
    "                          biomarkersDf.columns.str.contains('|'.join([x+\".0.0\" for x in markersList]))]=\\\n",
    "    knn.fit_transform(\n",
    "        biomarkersDf.loc[ageGroup,\n",
    "                          biomarkersDf.columns.str.contains('|'.join([x+\".0.0\" for x in markersList]))]\n",
    "    )\n"
   ]
  },
  {
   "cell_type": "code",
   "execution_count": 12,
   "metadata": {},
   "outputs": [
    {
     "data": {
      "text/plain": [
       "alanine_aminotransferase.0.0\n",
       "20.634976    73\n",
       "26.425695    63\n",
       "17.606898    30\n",
       "28.944962    21\n",
       "15.060000    19\n",
       "             ..\n",
       "37.920000     1\n",
       "20.740000     1\n",
       "41.050000     1\n",
       "32.360000     1\n",
       "35.790000     1\n",
       "Name: count, Length: 4643, dtype: int64"
      ]
     },
     "execution_count": 12,
     "metadata": {},
     "output_type": "execute_result"
    }
   ],
   "source": [
    "biomarkersDf[\"alanine_aminotransferase.0.0\"].value_counts(dropna=False)"
   ]
  },
  {
   "cell_type": "code",
   "execution_count": 13,
   "metadata": {},
   "outputs": [
    {
     "data": {
      "text/plain": [
       "16847"
      ]
     },
     "execution_count": 13,
     "metadata": {},
     "output_type": "execute_result"
    }
   ],
   "source": [
    "biomarkersDf[\"alanine_aminotransferase.0.0\"].value_counts(dropna=False).sum()"
   ]
  },
  {
   "cell_type": "code",
   "execution_count": 14,
   "metadata": {},
   "outputs": [
    {
     "data": {
      "text/plain": [
       "aspartate_aminotransferase.1.0\n",
       "NaN      2079\n",
       "25.1      150\n",
       "24.0      150\n",
       "23.1      142\n",
       "25.0      134\n",
       "         ... \n",
       "83.6        1\n",
       "48.0        1\n",
       "173.7       1\n",
       "46.6        1\n",
       "59.4        1\n",
       "Name: count, Length: 555, dtype: int64"
      ]
     },
     "execution_count": 14,
     "metadata": {},
     "output_type": "execute_result"
    }
   ],
   "source": [
    "biomarkersDf[\"aspartate_aminotransferase.1.0\"].value_counts(dropna=False)"
   ]
  },
  {
   "cell_type": "code",
   "execution_count": 15,
   "metadata": {},
   "outputs": [
    {
     "name": "stderr",
     "output_type": "stream",
     "text": [
      "100% (6 of 6) |##########################| Elapsed Time: 0:00:05 Time:  0:00:05\n"
     ]
    }
   ],
   "source": [
    "for ageGroup in progressbar.progressbar(getAgeGroupList(biomarkersDf, \"age.1.0\")):\n",
    "    \n",
    "     biomarkersDf.loc[ageGroup,\n",
    "                          biomarkersDf.columns.str.contains('|'.join([x+\".1.0\" for x in markersList]))]=\\\n",
    "    knn.fit_transform(\n",
    "        biomarkersDf.loc[ageGroup,\n",
    "                          biomarkersDf.columns.str.contains('|'.join([x+\".1.0\" for x in markersList]))]\n",
    "    )\n",
    "\n",
    "   "
   ]
  },
  {
   "cell_type": "code",
   "execution_count": 16,
   "metadata": {},
   "outputs": [
    {
     "data": {
      "text/plain": [
       "'\\n    Compare knn vs baseline df \\n    compare bhs complete cases vs bhs knn - especially t1\\n'"
      ]
     },
     "execution_count": 16,
     "metadata": {},
     "output_type": "execute_result"
    }
   ],
   "source": [
    "\"\"\"\n",
    "    Compare knn vs baseline df \n",
    "    compare bhs complete cases vs bhs knn - especially t1\n",
    "\"\"\""
   ]
  },
  {
   "cell_type": "code",
   "execution_count": 24,
   "metadata": {},
   "outputs": [],
   "source": [
    "import matplotlib.pyplot as plt\n",
    "import seaborn as sns\n",
    "\n",
    "# plot melted dataframe in a single command\n",
    "# to compare few biomarkers \n",
    "\n",
    "def compareDistributionKnn(completeCasesDf, biomarkersDf, imputedVar):\n",
    "    completeCasesDf[\"compare_var\"] = completeCasesDf[imputedVar]\n",
    "    plotDf = pd.merge(\n",
    "        biomarkersDf[[imputedVar, \"eid\"]],\n",
    "        completeCasesDf[[\"compare_var\", \"eid\"]],\n",
    "        how=\"left\",\n",
    "        on=\"eid\")\n",
    "\n",
    "    sns.histplot(plotDf[[imputedVar, \"compare_var\"]].melt(), x='value', hue='variable',\n",
    "                 multiple='dodge', shrink=.75, bins=20);"
   ]
  },
  {
   "cell_type": "code",
   "execution_count": 25,
   "metadata": {},
   "outputs": [
    {
     "name": "stderr",
     "output_type": "stream",
     "text": [
      "/var/tmp/pbs.8186257.pbs/ipykernel_3418500/1504957966.py:8: SettingWithCopyWarning: \n",
      "A value is trying to be set on a copy of a slice from a DataFrame.\n",
      "Try using .loc[row_indexer,col_indexer] = value instead\n",
      "\n",
      "See the caveats in the documentation: https://pandas.pydata.org/pandas-docs/stable/user_guide/indexing.html#returning-a-view-versus-a-copy\n",
      "  completeCasesDf[\"compare_var\"] = completeCasesDf[imputedVar]\n"
     ]
    },
    {
     "data": {
      "image/png": "[encoded data removed]",
      "text/plain": [
       "<Figure size 640x480 with 1 Axes>"
      ]
     },
     "metadata": {},
     "output_type": "display_data"
    }
   ],
   "source": [
    "compareDistributionKnn(completeCasesDf, biomarkersDf, \"systolic_bp.1.0\")"
   ]
  },
  {
   "cell_type": "code",
   "execution_count": 27,
   "metadata": {},
   "outputs": [
    {
     "name": "stderr",
     "output_type": "stream",
     "text": [
      "/var/tmp/pbs.8186257.pbs/ipykernel_3418500/1504957966.py:8: SettingWithCopyWarning: \n",
      "A value is trying to be set on a copy of a slice from a DataFrame.\n",
      "Try using .loc[row_indexer,col_indexer] = value instead\n",
      "\n",
      "See the caveats in the documentation: https://pandas.pydata.org/pandas-docs/stable/user_guide/indexing.html#returning-a-view-versus-a-copy\n",
      "  completeCasesDf[\"compare_var\"] = completeCasesDf[imputedVar]\n"
     ]
    },
    {
     "data": {
      "image/png": "[encoded data removed]",
      "text/plain": [
       "<Figure size 640x480 with 1 Axes>"
      ]
     },
     "metadata": {},
     "output_type": "display_data"
    }
   ],
   "source": [
    "compareDistributionKnn(completeCasesDf, biomarkersDf, \"LDL_direct.1.0\")"
   ]
  },
  {
   "cell_type": "code",
   "execution_count": 28,
   "metadata": {},
   "outputs": [
    {
     "name": "stderr",
     "output_type": "stream",
     "text": [
      "/var/tmp/pbs.8186257.pbs/ipykernel_3418500/1504957966.py:8: SettingWithCopyWarning: \n",
      "A value is trying to be set on a copy of a slice from a DataFrame.\n",
      "Try using .loc[row_indexer,col_indexer] = value instead\n",
      "\n",
      "See the caveats in the documentation: https://pandas.pydata.org/pandas-docs/stable/user_guide/indexing.html#returning-a-view-versus-a-copy\n",
      "  completeCasesDf[\"compare_var\"] = completeCasesDf[imputedVar]\n"
     ]
    },
    {
     "data": {
      "image/png": "[encoded data removed]",
      "text/plain": [
       "<Figure size 640x480 with 1 Axes>"
      ]
     },
     "metadata": {},
     "output_type": "display_data"
    }
   ],
   "source": [
    "compareDistributionKnn(completeCasesDf, biomarkersDf, \"aspartate_aminotransferase.1.0\")"
   ]
  },
  {
   "cell_type": "code",
   "execution_count": 29,
   "metadata": {},
   "outputs": [
    {
     "name": "stderr",
     "output_type": "stream",
     "text": [
      "/var/tmp/pbs.8186257.pbs/ipykernel_3418500/1504957966.py:8: SettingWithCopyWarning: \n",
      "A value is trying to be set on a copy of a slice from a DataFrame.\n",
      "Try using .loc[row_indexer,col_indexer] = value instead\n",
      "\n",
      "See the caveats in the documentation: https://pandas.pydata.org/pandas-docs/stable/user_guide/indexing.html#returning-a-view-versus-a-copy\n",
      "  completeCasesDf[\"compare_var\"] = completeCasesDf[imputedVar]\n"
     ]
    },
    {
     "data": {
      "image/png": "[encoded data removed]",
      "text/plain": [
       "<Figure size 640x480 with 1 Axes>"
      ]
     },
     "metadata": {},
     "output_type": "display_data"
    }
   ],
   "source": [
    "compareDistributionKnn(completeCasesDf, biomarkersDf, \"cystatin_C.1.0\")"
   ]
  },
  {
   "cell_type": "code",
   "execution_count": 40,
   "metadata": {},
   "outputs": [],
   "source": [
    "t1 = pd.DataFrame(np.random.rand(4,3))\n",
    "t2 = pd.DataFrame(np.random.rand(10,3))"
   ]
  },
  {
   "cell_type": "code",
   "execution_count": 41,
   "metadata": {},
   "outputs": [
    {
     "data": {
      "text/html": [
       "<div>\n",
       "<style scoped>\n",
       "    .dataframe tbody tr th:only-of-type {\n",
       "        vertical-align: middle;\n",
       "    }\n",
       "\n",
       "    .dataframe tbody tr th {\n",
       "        vertical-align: top;\n",
       "    }\n",
       "\n",
       "    .dataframe thead th {\n",
       "        text-align: right;\n",
       "    }\n",
       "</style>\n",
       "<table border=\"1\" class=\"dataframe\">\n",
       "  <thead>\n",
       "    <tr style=\"text-align: right;\">\n",
       "      <th></th>\n",
       "      <th>0</th>\n",
       "      <th>1</th>\n",
       "      <th>2</th>\n",
       "    </tr>\n",
       "  </thead>\n",
       "  <tbody>\n",
       "    <tr>\n",
       "      <th>0</th>\n",
       "      <td>0.482675</td>\n",
       "      <td>0.980602</td>\n",
       "      <td>0.180896</td>\n",
       "    </tr>\n",
       "    <tr>\n",
       "      <th>1</th>\n",
       "      <td>0.865516</td>\n",
       "      <td>0.497097</td>\n",
       "      <td>0.542922</td>\n",
       "    </tr>\n",
       "    <tr>\n",
       "      <th>2</th>\n",
       "      <td>0.055948</td>\n",
       "      <td>0.518090</td>\n",
       "      <td>0.366539</td>\n",
       "    </tr>\n",
       "    <tr>\n",
       "      <th>3</th>\n",
       "      <td>0.890015</td>\n",
       "      <td>0.364513</td>\n",
       "      <td>0.240264</td>\n",
       "    </tr>\n",
       "  </tbody>\n",
       "</table>\n",
       "</div>"
      ],
      "text/plain": [
       "          0         1         2\n",
       "0  0.482675  0.980602  0.180896\n",
       "1  0.865516  0.497097  0.542922\n",
       "2  0.055948  0.518090  0.366539\n",
       "3  0.890015  0.364513  0.240264"
      ]
     },
     "execution_count": 41,
     "metadata": {},
     "output_type": "execute_result"
    }
   ],
   "source": [
    "t1"
   ]
  },
  {
   "cell_type": "code",
   "execution_count": 43,
   "metadata": {},
   "outputs": [],
   "source": [
    "t1.index = [0,2,4,6]"
   ]
  },
  {
   "cell_type": "code",
   "execution_count": 44,
   "metadata": {},
   "outputs": [
    {
     "data": {
      "text/html": [
       "<div>\n",
       "<style scoped>\n",
       "    .dataframe tbody tr th:only-of-type {\n",
       "        vertical-align: middle;\n",
       "    }\n",
       "\n",
       "    .dataframe tbody tr th {\n",
       "        vertical-align: top;\n",
       "    }\n",
       "\n",
       "    .dataframe thead th {\n",
       "        text-align: right;\n",
       "    }\n",
       "</style>\n",
       "<table border=\"1\" class=\"dataframe\">\n",
       "  <thead>\n",
       "    <tr style=\"text-align: right;\">\n",
       "      <th></th>\n",
       "      <th>0</th>\n",
       "      <th>1</th>\n",
       "      <th>2</th>\n",
       "    </tr>\n",
       "  </thead>\n",
       "  <tbody>\n",
       "    <tr>\n",
       "      <th>0</th>\n",
       "      <td>0.482675</td>\n",
       "      <td>0.980602</td>\n",
       "      <td>0.180896</td>\n",
       "    </tr>\n",
       "    <tr>\n",
       "      <th>2</th>\n",
       "      <td>0.865516</td>\n",
       "      <td>0.497097</td>\n",
       "      <td>0.542922</td>\n",
       "    </tr>\n",
       "    <tr>\n",
       "      <th>4</th>\n",
       "      <td>0.055948</td>\n",
       "      <td>0.518090</td>\n",
       "      <td>0.366539</td>\n",
       "    </tr>\n",
       "    <tr>\n",
       "      <th>6</th>\n",
       "      <td>0.890015</td>\n",
       "      <td>0.364513</td>\n",
       "      <td>0.240264</td>\n",
       "    </tr>\n",
       "  </tbody>\n",
       "</table>\n",
       "</div>"
      ],
      "text/plain": [
       "          0         1         2\n",
       "0  0.482675  0.980602  0.180896\n",
       "2  0.865516  0.497097  0.542922\n",
       "4  0.055948  0.518090  0.366539\n",
       "6  0.890015  0.364513  0.240264"
      ]
     },
     "execution_count": 44,
     "metadata": {},
     "output_type": "execute_result"
    }
   ],
   "source": [
    "t1"
   ]
  },
  {
   "cell_type": "code",
   "execution_count": 45,
   "metadata": {},
   "outputs": [
    {
     "data": {
      "text/html": [
       "<div>\n",
       "<style scoped>\n",
       "    .dataframe tbody tr th:only-of-type {\n",
       "        vertical-align: middle;\n",
       "    }\n",
       "\n",
       "    .dataframe tbody tr th {\n",
       "        vertical-align: top;\n",
       "    }\n",
       "\n",
       "    .dataframe thead th {\n",
       "        text-align: right;\n",
       "    }\n",
       "</style>\n",
       "<table border=\"1\" class=\"dataframe\">\n",
       "  <thead>\n",
       "    <tr style=\"text-align: right;\">\n",
       "      <th></th>\n",
       "      <th>0</th>\n",
       "      <th>1</th>\n",
       "      <th>2</th>\n",
       "    </tr>\n",
       "  </thead>\n",
       "  <tbody>\n",
       "    <tr>\n",
       "      <th>0</th>\n",
       "      <td>0.877457</td>\n",
       "      <td>0.246135</td>\n",
       "      <td>0.374440</td>\n",
       "    </tr>\n",
       "    <tr>\n",
       "      <th>1</th>\n",
       "      <td>0.144423</td>\n",
       "      <td>0.520206</td>\n",
       "      <td>0.848977</td>\n",
       "    </tr>\n",
       "    <tr>\n",
       "      <th>2</th>\n",
       "      <td>0.228418</td>\n",
       "      <td>0.731060</td>\n",
       "      <td>0.562411</td>\n",
       "    </tr>\n",
       "    <tr>\n",
       "      <th>3</th>\n",
       "      <td>0.283500</td>\n",
       "      <td>0.142373</td>\n",
       "      <td>0.629935</td>\n",
       "    </tr>\n",
       "    <tr>\n",
       "      <th>4</th>\n",
       "      <td>0.778121</td>\n",
       "      <td>0.215342</td>\n",
       "      <td>0.303582</td>\n",
       "    </tr>\n",
       "    <tr>\n",
       "      <th>5</th>\n",
       "      <td>0.579588</td>\n",
       "      <td>0.493004</td>\n",
       "      <td>0.657574</td>\n",
       "    </tr>\n",
       "    <tr>\n",
       "      <th>6</th>\n",
       "      <td>0.296170</td>\n",
       "      <td>0.923312</td>\n",
       "      <td>0.087927</td>\n",
       "    </tr>\n",
       "    <tr>\n",
       "      <th>7</th>\n",
       "      <td>0.899904</td>\n",
       "      <td>0.394160</td>\n",
       "      <td>0.899079</td>\n",
       "    </tr>\n",
       "    <tr>\n",
       "      <th>8</th>\n",
       "      <td>0.641630</td>\n",
       "      <td>0.483941</td>\n",
       "      <td>0.663990</td>\n",
       "    </tr>\n",
       "    <tr>\n",
       "      <th>9</th>\n",
       "      <td>0.040367</td>\n",
       "      <td>0.952393</td>\n",
       "      <td>0.647587</td>\n",
       "    </tr>\n",
       "  </tbody>\n",
       "</table>\n",
       "</div>"
      ],
      "text/plain": [
       "          0         1         2\n",
       "0  0.877457  0.246135  0.374440\n",
       "1  0.144423  0.520206  0.848977\n",
       "2  0.228418  0.731060  0.562411\n",
       "3  0.283500  0.142373  0.629935\n",
       "4  0.778121  0.215342  0.303582\n",
       "5  0.579588  0.493004  0.657574\n",
       "6  0.296170  0.923312  0.087927\n",
       "7  0.899904  0.394160  0.899079\n",
       "8  0.641630  0.483941  0.663990\n",
       "9  0.040367  0.952393  0.647587"
      ]
     },
     "execution_count": 45,
     "metadata": {},
     "output_type": "execute_result"
    }
   ],
   "source": [
    "t2"
   ]
  },
  {
   "cell_type": "code",
   "execution_count": 46,
   "metadata": {},
   "outputs": [],
   "source": [
    "t1[0] = t2[0]"
   ]
  },
  {
   "cell_type": "code",
   "execution_count": 47,
   "metadata": {},
   "outputs": [
    {
     "data": {
      "text/html": [
       "<div>\n",
       "<style scoped>\n",
       "    .dataframe tbody tr th:only-of-type {\n",
       "        vertical-align: middle;\n",
       "    }\n",
       "\n",
       "    .dataframe tbody tr th {\n",
       "        vertical-align: top;\n",
       "    }\n",
       "\n",
       "    .dataframe thead th {\n",
       "        text-align: right;\n",
       "    }\n",
       "</style>\n",
       "<table border=\"1\" class=\"dataframe\">\n",
       "  <thead>\n",
       "    <tr style=\"text-align: right;\">\n",
       "      <th></th>\n",
       "      <th>0</th>\n",
       "      <th>1</th>\n",
       "      <th>2</th>\n",
       "    </tr>\n",
       "  </thead>\n",
       "  <tbody>\n",
       "    <tr>\n",
       "      <th>0</th>\n",
       "      <td>0.877457</td>\n",
       "      <td>0.980602</td>\n",
       "      <td>0.180896</td>\n",
       "    </tr>\n",
       "    <tr>\n",
       "      <th>2</th>\n",
       "      <td>0.228418</td>\n",
       "      <td>0.497097</td>\n",
       "      <td>0.542922</td>\n",
       "    </tr>\n",
       "    <tr>\n",
       "      <th>4</th>\n",
       "      <td>0.778121</td>\n",
       "      <td>0.518090</td>\n",
       "      <td>0.366539</td>\n",
       "    </tr>\n",
       "    <tr>\n",
       "      <th>6</th>\n",
       "      <td>0.296170</td>\n",
       "      <td>0.364513</td>\n",
       "      <td>0.240264</td>\n",
       "    </tr>\n",
       "  </tbody>\n",
       "</table>\n",
       "</div>"
      ],
      "text/plain": [
       "          0         1         2\n",
       "0  0.877457  0.980602  0.180896\n",
       "2  0.228418  0.497097  0.542922\n",
       "4  0.778121  0.518090  0.366539\n",
       "6  0.296170  0.364513  0.240264"
      ]
     },
     "execution_count": 47,
     "metadata": {},
     "output_type": "execute_result"
    }
   ],
   "source": [
    "t1"
   ]
  },
  {
   "cell_type": "code",
   "execution_count": 30,
   "metadata": {},
   "outputs": [],
   "source": [
    "df3 = pd.read_parquet(\"../data/processed_data/05_ukbb_outcome_trimmed_diet_bhs_complete_cases_pca_subsystem.parquet\")"
   ]
  },
  {
   "cell_type": "code",
   "execution_count": 31,
   "metadata": {},
   "outputs": [
    {
     "data": {
      "text/plain": [
       "Index(['body_age10.0.0', 'body_age10.1.0', 'body_age10.2.0',\n",
       "       'height_age10.0.0', 'height_age10.1.0', 'height_age10.2.0',\n",
       "       'mothers_age.0.0', 'mothers_age.1.0', 'fathers_age.0.0',\n",
       "       'fathers_age.1.0', 'age.0.0', 'age.1.0',\n",
       "       'Average_Diameter_for_VLDL_Particles_NG.0.0',\n",
       "       'Average_Diameter_for_VLDL_Particles_NG.1.0',\n",
       "       'Average_Diameter_for_LDL_Particles_NG.0.0',\n",
       "       'Average_Diameter_for_LDL_Particles_NG.1.0',\n",
       "       'Average_Diameter_for_HDL_Particles_NG.0.0',\n",
       "       'Average_Diameter_for_HDL_Particles_NG.1.0',\n",
       "       'domestic_percentage_1000m.0.0', 'domestic_percentage_1000m.1.0',\n",
       "       'domestic_percentage_300m.0.0', 'domestic_percentage_300m.1.0',\n",
       "       'natural_percentage_1000m.0.0', 'natural_percentage_1000m.1.0',\n",
       "       'natural_percentage_300m.0.0', 'natural_percentage_300m.1.0',\n",
       "       'lymphocyte_percentage.0.0', 'lymphocyte_percentage.1.0',\n",
       "       'lymphocyte_percentage.2.0', 'monocyte_percentage.0.0',\n",
       "       'monocyte_percentage.1.0', 'monocyte_percentage.2.0',\n",
       "       'neutrophill_percentage.0.0', 'neutrophill_percentage.1.0',\n",
       "       'neutrophill_percentage.2.0', 'eosinophill_percentage.0.0',\n",
       "       'eosinophill_percentage.1.0', 'eosinophill_percentage.2.0',\n",
       "       'basophill_percentage.0.0', 'basophill_percentage.1.0',\n",
       "       'basophill_percentage.2.0', 'nucleated_rbc_percentage.0.0',\n",
       "       'nucleated_rbc_percentage.1.0', 'nucleated_rbc_percentage.2.0',\n",
       "       'reticulocyte_percentage.0.0', 'reticulocyte_percentage.1.0',\n",
       "       'reticulocyte_percentage.2.0', 'high_ls_reticulocyte_percentage.0.0',\n",
       "       'high_ls_reticulocyte_percentage.1.0',\n",
       "       'high_ls_reticulocyte_percentage.2.0'],\n",
       "      dtype='object')"
      ]
     },
     "execution_count": 31,
     "metadata": {},
     "output_type": "execute_result"
    }
   ],
   "source": [
    "df3.columns[df3.columns.str.contains(\"age\")]"
   ]
  },
  {
   "cell_type": "code",
   "execution_count": null,
   "metadata": {},
   "outputs": [],
   "source": []
  }
 ],
 "metadata": {
  "kernelspec": {
   "display_name": "Python [conda env:ploomber]",
   "language": "python",
   "name": "conda-env-ploomber-py"
  },
  "language_info": {
   "codemirror_mode": {
    "name": "ipython",
    "version": 3
   },
   "file_extension": ".py",
   "mimetype": "text/x-python",
   "name": "python",
   "nbconvert_exporter": "python",
   "pygments_lexer": "ipython3",
   "version": "3.10.12"
  }
 },
 "nbformat": 4,
 "nbformat_minor": 2
}
